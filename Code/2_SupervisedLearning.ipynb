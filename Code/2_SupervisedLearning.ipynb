{
 "cells": [
  {
   "cell_type": "markdown",
   "metadata": {
    "toc": true
   },
   "source": [
    "<h1>Inhaltsverzeichnis<span class=\"tocSkip\"></span></h1>\n",
    "<div class=\"toc\"><ul class=\"toc-item\"><li><span><a href=\"#Imports-und-Daten-einlesen\" data-toc-modified-id=\"Imports-und-Daten-einlesen-1\"><span class=\"toc-item-num\">1&nbsp;&nbsp;</span>Imports und Daten einlesen</a></span></li><li><span><a href=\"#Featureauswahl\" data-toc-modified-id=\"Featureauswahl-2\"><span class=\"toc-item-num\">2&nbsp;&nbsp;</span>Featureauswahl</a></span></li><li><span><a href=\"#Aufteilung-in-Trainings--und-Validierungsdaten\" data-toc-modified-id=\"Aufteilung-in-Trainings--und-Validierungsdaten-3\"><span class=\"toc-item-num\">3&nbsp;&nbsp;</span>Aufteilung in Trainings- und Validierungsdaten</a></span></li><li><span><a href=\"#Zielparameter-und-Lernaufgabe\" data-toc-modified-id=\"Zielparameter-und-Lernaufgabe-4\"><span class=\"toc-item-num\">4&nbsp;&nbsp;</span>Zielparameter und Lernaufgabe</a></span></li><li><span><a href=\"#Metrik-festlegen-für-Lernerfolg\" data-toc-modified-id=\"Metrik-festlegen-für-Lernerfolg-5\"><span class=\"toc-item-num\">5&nbsp;&nbsp;</span>Metrik festlegen für Lernerfolg</a></span></li><li><span><a href=\"#Erkenntnissfreie-Baseline-Methode-(Mittelwert)\" data-toc-modified-id=\"Erkenntnissfreie-Baseline-Methode-(Mittelwert)-6\"><span class=\"toc-item-num\">6&nbsp;&nbsp;</span>Erkenntnissfreie Baseline Methode (Mittelwert)</a></span></li><li><span><a href=\"#Linear-Regression\" data-toc-modified-id=\"Linear-Regression-7\"><span class=\"toc-item-num\">7&nbsp;&nbsp;</span>Linear Regression</a></span></li><li><span><a href=\"#Gradient-Boosting-Regressor\" data-toc-modified-id=\"Gradient-Boosting-Regressor-8\"><span class=\"toc-item-num\">8&nbsp;&nbsp;</span>Gradient Boosting Regressor</a></span></li><li><span><a href=\"#Extra-Trees-Regressor\" data-toc-modified-id=\"Extra-Trees-Regressor-9\"><span class=\"toc-item-num\">9&nbsp;&nbsp;</span>Extra Trees Regressor</a></span></li><li><span><a href=\"#Evaluierung-und-Vergleich-der-Methoden\" data-toc-modified-id=\"Evaluierung-und-Vergleich-der-Methoden-10\"><span class=\"toc-item-num\">10&nbsp;&nbsp;</span>Evaluierung und Vergleich der Methoden</a></span><ul class=\"toc-item\"><li><span><a href=\"#Dummy-Auswertung\" data-toc-modified-id=\"Dummy-Auswertung-10.1\"><span class=\"toc-item-num\">10.1&nbsp;&nbsp;</span>Dummy Auswertung</a></span></li><li><span><a href=\"#Lineare-Regression-Auswertung\" data-toc-modified-id=\"Lineare-Regression-Auswertung-10.2\"><span class=\"toc-item-num\">10.2&nbsp;&nbsp;</span>Lineare Regression Auswertung</a></span></li><li><span><a href=\"#Gradient-Boosting-Regressor-Auswertung\" data-toc-modified-id=\"Gradient-Boosting-Regressor-Auswertung-10.3\"><span class=\"toc-item-num\">10.3&nbsp;&nbsp;</span>Gradient Boosting Regressor Auswertung</a></span></li><li><span><a href=\"#Extra-Trees-Auswertung\" data-toc-modified-id=\"Extra-Trees-Auswertung-10.4\"><span class=\"toc-item-num\">10.4&nbsp;&nbsp;</span>Extra Trees Auswertung</a></span></li><li><span><a href=\"#Vergleich\" data-toc-modified-id=\"Vergleich-10.5\"><span class=\"toc-item-num\">10.5&nbsp;&nbsp;</span>Vergleich</a></span></li></ul></li><li><span><a href=\"#Weitere-Auswertungen-und-Visualisierungen\" data-toc-modified-id=\"Weitere-Auswertungen-und-Visualisierungen-11\"><span class=\"toc-item-num\">11&nbsp;&nbsp;</span>Weitere Auswertungen und Visualisierungen</a></span></li><li><span><a href=\"#Predictions-speichern\" data-toc-modified-id=\"Predictions-speichern-12\"><span class=\"toc-item-num\">12&nbsp;&nbsp;</span>Predictions speichern</a></span></li><li><span><a href=\"#Weitere-Ansätze:\" data-toc-modified-id=\"Weitere-Ansätze:-13\"><span class=\"toc-item-num\">13&nbsp;&nbsp;</span>Weitere Ansätze:</a></span><ul class=\"toc-item\"><li><span><a href=\"#Kombination:-Lineare-Regression-und-Gradient-Boosting-Regressor\" data-toc-modified-id=\"Kombination:-Lineare-Regression-und-Gradient-Boosting-Regressor-13.1\"><span class=\"toc-item-num\">13.1&nbsp;&nbsp;</span>Kombination: Lineare Regression und Gradient Boosting Regressor</a></span></li><li><span><a href=\"#Random-Forest-Regressor\" data-toc-modified-id=\"Random-Forest-Regressor-13.2\"><span class=\"toc-item-num\">13.2&nbsp;&nbsp;</span>Random Forest Regressor</a></span></li><li><span><a href=\"#Reduzierung-der-Features-anhand-der-Korrelationswerte-bzw.-Feature-Importance\" data-toc-modified-id=\"Reduzierung-der-Features-anhand-der-Korrelationswerte-bzw.-Feature-Importance-13.3\"><span class=\"toc-item-num\">13.3&nbsp;&nbsp;</span>Reduzierung der Features anhand der Korrelationswerte bzw. Feature Importance</a></span></li><li><span><a href=\"#Versuch-mit-500-Bäumen-und-Extra-Trees-(DNF)\" data-toc-modified-id=\"Versuch-mit-500-Bäumen-und-Extra-Trees-(DNF)-13.4\"><span class=\"toc-item-num\">13.4&nbsp;&nbsp;</span>Versuch mit 500 Bäumen und Extra Trees (DNF)</a></span></li><li><span><a href=\"#Extra:-MLP-Regressor-(erster-Versuch)\" data-toc-modified-id=\"Extra:-MLP-Regressor-(erster-Versuch)-13.5\"><span class=\"toc-item-num\">13.5&nbsp;&nbsp;</span>Extra: MLP Regressor (erster Versuch)</a></span></li></ul></li></ul></div>"
   ]
  },
  {
   "cell_type": "markdown",
   "metadata": {},
   "source": [
    "## Imports und Daten einlesen"
   ]
  },
  {
   "cell_type": "code",
   "execution_count": 11,
   "metadata": {},
   "outputs": [],
   "source": [
    "import pandas as pd\n",
    "import numpy as np\n",
    "import math\n",
    "import time"
   ]
  },
  {
   "cell_type": "code",
   "execution_count": 32,
   "metadata": {},
   "outputs": [],
   "source": [
    "import matplotlib.pyplot as plt\n",
    "import seaborn as sns"
   ]
  },
  {
   "cell_type": "code",
   "execution_count": 13,
   "metadata": {},
   "outputs": [],
   "source": [
    "from sklearn.model_selection import train_test_split"
   ]
  },
  {
   "cell_type": "code",
   "execution_count": 14,
   "metadata": {},
   "outputs": [],
   "source": [
    "from sklearn.dummy import DummyRegressor\n",
    "from sklearn.linear_model import LinearRegression\n",
    "from sklearn.ensemble import GradientBoostingRegressor\n",
    "from sklearn.ensemble import ExtraTreesRegressor"
   ]
  },
  {
   "cell_type": "code",
   "execution_count": 15,
   "metadata": {},
   "outputs": [],
   "source": [
    "from sklearn.metrics import mean_absolute_error\n",
    "from sklearn.metrics import mean_squared_error"
   ]
  },
  {
   "cell_type": "markdown",
   "metadata": {},
   "source": [
    "Trainingsdaten einlesen"
   ]
  },
  {
   "cell_type": "code",
   "execution_count": 16,
   "metadata": {},
   "outputs": [],
   "source": [
    "traindata = pd.read_csv(\"../data/trainingdata.csv\")"
   ]
  },
  {
   "cell_type": "code",
   "execution_count": 17,
   "metadata": {},
   "outputs": [
    {
     "data": {
      "text/plain": [
       "(1839588, 22)"
      ]
     },
     "execution_count": 17,
     "metadata": {},
     "output_type": "execute_result"
    }
   ],
   "source": [
    "traindata.shape"
   ]
  },
  {
   "cell_type": "code",
   "execution_count": 18,
   "metadata": {},
   "outputs": [
    {
     "data": {
      "text/html": [
       "<div>\n",
       "<style scoped>\n",
       "    .dataframe tbody tr th:only-of-type {\n",
       "        vertical-align: middle;\n",
       "    }\n",
       "\n",
       "    .dataframe tbody tr th {\n",
       "        vertical-align: top;\n",
       "    }\n",
       "\n",
       "    .dataframe thead th {\n",
       "        text-align: right;\n",
       "    }\n",
       "</style>\n",
       "<table border=\"1\" class=\"dataframe\">\n",
       "  <thead>\n",
       "    <tr style=\"text-align: right;\">\n",
       "      <th></th>\n",
       "      <th>id</th>\n",
       "      <th>timeAtServer</th>\n",
       "      <th>aircraft</th>\n",
       "      <th>latitude</th>\n",
       "      <th>longitude</th>\n",
       "      <th>baroAltitude</th>\n",
       "      <th>geoAltitude</th>\n",
       "      <th>numMeasurements</th>\n",
       "      <th>serial_1</th>\n",
       "      <th>timestamp_1</th>\n",
       "      <th>...</th>\n",
       "      <th>timestamp_2</th>\n",
       "      <th>signalstrength_2</th>\n",
       "      <th>latitude_1</th>\n",
       "      <th>longitude_1</th>\n",
       "      <th>height_1</th>\n",
       "      <th>type_1</th>\n",
       "      <th>latitude_2</th>\n",
       "      <th>longitude_2</th>\n",
       "      <th>height_2</th>\n",
       "      <th>type_2</th>\n",
       "    </tr>\n",
       "  </thead>\n",
       "  <tbody>\n",
       "    <tr>\n",
       "      <th>0</th>\n",
       "      <td>1</td>\n",
       "      <td>0.000</td>\n",
       "      <td>1526</td>\n",
       "      <td>50.174188</td>\n",
       "      <td>5.035970</td>\n",
       "      <td>10774.68</td>\n",
       "      <td>11140.44</td>\n",
       "      <td>2</td>\n",
       "      <td>115</td>\n",
       "      <td>916424593.0</td>\n",
       "      <td>...</td>\n",
       "      <td>916077078.0</td>\n",
       "      <td>50</td>\n",
       "      <td>50.937081</td>\n",
       "      <td>7.353797</td>\n",
       "      <td>262.311051</td>\n",
       "      <td>3</td>\n",
       "      <td>50.862327</td>\n",
       "      <td>4.685708</td>\n",
       "      <td>19.812000</td>\n",
       "      <td>3</td>\n",
       "    </tr>\n",
       "    <tr>\n",
       "      <th>1</th>\n",
       "      <td>2</td>\n",
       "      <td>0.000</td>\n",
       "      <td>1293</td>\n",
       "      <td>60.574610</td>\n",
       "      <td>11.334948</td>\n",
       "      <td>6941.82</td>\n",
       "      <td>6911.34</td>\n",
       "      <td>2</td>\n",
       "      <td>121</td>\n",
       "      <td>975844453.0</td>\n",
       "      <td>...</td>\n",
       "      <td>975950656.0</td>\n",
       "      <td>51</td>\n",
       "      <td>59.896488</td>\n",
       "      <td>10.805318</td>\n",
       "      <td>128.565903</td>\n",
       "      <td>3</td>\n",
       "      <td>59.689396</td>\n",
       "      <td>10.344382</td>\n",
       "      <td>5.966146</td>\n",
       "      <td>3</td>\n",
       "    </tr>\n",
       "    <tr>\n",
       "      <th>2</th>\n",
       "      <td>3</td>\n",
       "      <td>0.001</td>\n",
       "      <td>2190</td>\n",
       "      <td>46.497911</td>\n",
       "      <td>6.754051</td>\n",
       "      <td>11277.60</td>\n",
       "      <td>11658.60</td>\n",
       "      <td>2</td>\n",
       "      <td>112</td>\n",
       "      <td>975427734.0</td>\n",
       "      <td>...</td>\n",
       "      <td>975920296.0</td>\n",
       "      <td>81</td>\n",
       "      <td>46.479491</td>\n",
       "      <td>6.837746</td>\n",
       "      <td>684.156348</td>\n",
       "      <td>3</td>\n",
       "      <td>46.200818</td>\n",
       "      <td>8.789325</td>\n",
       "      <td>1699.392950</td>\n",
       "      <td>3</td>\n",
       "    </tr>\n",
       "    <tr>\n",
       "      <th>3</th>\n",
       "      <td>4</td>\n",
       "      <td>0.003</td>\n",
       "      <td>495</td>\n",
       "      <td>50.035602</td>\n",
       "      <td>8.749868</td>\n",
       "      <td>11879.58</td>\n",
       "      <td>12298.68</td>\n",
       "      <td>2</td>\n",
       "      <td>110</td>\n",
       "      <td>981978250.0</td>\n",
       "      <td>...</td>\n",
       "      <td>982535968.0</td>\n",
       "      <td>33</td>\n",
       "      <td>50.116819</td>\n",
       "      <td>8.358244</td>\n",
       "      <td>266.413934</td>\n",
       "      <td>3</td>\n",
       "      <td>51.242813</td>\n",
       "      <td>6.684991</td>\n",
       "      <td>43.901066</td>\n",
       "      <td>3</td>\n",
       "    </tr>\n",
       "    <tr>\n",
       "      <th>4</th>\n",
       "      <td>5</td>\n",
       "      <td>0.005</td>\n",
       "      <td>149</td>\n",
       "      <td>47.648450</td>\n",
       "      <td>10.952454</td>\n",
       "      <td>6644.64</td>\n",
       "      <td>6918.96</td>\n",
       "      <td>2</td>\n",
       "      <td>131</td>\n",
       "      <td>979958890.0</td>\n",
       "      <td>...</td>\n",
       "      <td>979898250.0</td>\n",
       "      <td>61</td>\n",
       "      <td>48.178822</td>\n",
       "      <td>12.235501</td>\n",
       "      <td>529.392761</td>\n",
       "      <td>3</td>\n",
       "      <td>48.296600</td>\n",
       "      <td>10.137368</td>\n",
       "      <td>502.703674</td>\n",
       "      <td>3</td>\n",
       "    </tr>\n",
       "  </tbody>\n",
       "</table>\n",
       "<p>5 rows × 22 columns</p>\n",
       "</div>"
      ],
      "text/plain": [
       "   id  timeAtServer  aircraft   latitude  longitude  baroAltitude  \\\n",
       "0   1         0.000      1526  50.174188   5.035970      10774.68   \n",
       "1   2         0.000      1293  60.574610  11.334948       6941.82   \n",
       "2   3         0.001      2190  46.497911   6.754051      11277.60   \n",
       "3   4         0.003       495  50.035602   8.749868      11879.58   \n",
       "4   5         0.005       149  47.648450  10.952454       6644.64   \n",
       "\n",
       "   geoAltitude  numMeasurements  serial_1  timestamp_1  ...  timestamp_2  \\\n",
       "0     11140.44                2       115  916424593.0  ...  916077078.0   \n",
       "1      6911.34                2       121  975844453.0  ...  975950656.0   \n",
       "2     11658.60                2       112  975427734.0  ...  975920296.0   \n",
       "3     12298.68                2       110  981978250.0  ...  982535968.0   \n",
       "4      6918.96                2       131  979958890.0  ...  979898250.0   \n",
       "\n",
       "   signalstrength_2  latitude_1  longitude_1    height_1  type_1  latitude_2  \\\n",
       "0                50   50.937081     7.353797  262.311051       3   50.862327   \n",
       "1                51   59.896488    10.805318  128.565903       3   59.689396   \n",
       "2                81   46.479491     6.837746  684.156348       3   46.200818   \n",
       "3                33   50.116819     8.358244  266.413934       3   51.242813   \n",
       "4                61   48.178822    12.235501  529.392761       3   48.296600   \n",
       "\n",
       "   longitude_2     height_2  type_2  \n",
       "0     4.685708    19.812000       3  \n",
       "1    10.344382     5.966146       3  \n",
       "2     8.789325  1699.392950       3  \n",
       "3     6.684991    43.901066       3  \n",
       "4    10.137368   502.703674       3  \n",
       "\n",
       "[5 rows x 22 columns]"
      ]
     },
     "execution_count": 18,
     "metadata": {},
     "output_type": "execute_result"
    }
   ],
   "source": [
    "traindata.head()"
   ]
  },
  {
   "cell_type": "markdown",
   "metadata": {},
   "source": [
    "## Featureauswahl"
   ]
  },
  {
   "cell_type": "code",
   "execution_count": 19,
   "metadata": {},
   "outputs": [
    {
     "data": {
      "text/plain": [
       "Index(['id', 'timeAtServer', 'aircraft', 'latitude', 'longitude',\n",
       "       'baroAltitude', 'geoAltitude', 'numMeasurements', 'serial_1',\n",
       "       'timestamp_1', 'signalstrength_1', 'serial_2', 'timestamp_2',\n",
       "       'signalstrength_2', 'latitude_1', 'longitude_1', 'height_1', 'type_1',\n",
       "       'latitude_2', 'longitude_2', 'height_2', 'type_2'],\n",
       "      dtype='object')"
      ]
     },
     "execution_count": 19,
     "metadata": {},
     "output_type": "execute_result"
    }
   ],
   "source": [
    "traindata.columns"
   ]
  },
  {
   "cell_type": "markdown",
   "metadata": {},
   "source": [
    "**Auswahl der Features**"
   ]
  },
  {
   "cell_type": "code",
   "execution_count": 20,
   "metadata": {},
   "outputs": [],
   "source": [
    "columns = ['aircraft','baroAltitude', \n",
    "           'timestamp_1', 'signalstrength_1', 'latitude_1', 'longitude_1', 'height_1', 'type_1', \n",
    "           'timestamp_2', 'signalstrength_2','latitude_2', 'longitude_2', 'height_2', 'type_2']"
   ]
  },
  {
   "cell_type": "code",
   "execution_count": 21,
   "metadata": {},
   "outputs": [
    {
     "data": {
      "text/plain": [
       "(1839588, 22)"
      ]
     },
     "execution_count": 21,
     "metadata": {},
     "output_type": "execute_result"
    }
   ],
   "source": [
    "traindata.shape"
   ]
  },
  {
   "cell_type": "markdown",
   "metadata": {},
   "source": [
    "## Aufteilung in Trainings- und Validierungsdaten "
   ]
  },
  {
   "cell_type": "code",
   "execution_count": 22,
   "metadata": {},
   "outputs": [],
   "source": [
    "# from sklearn.model_selection import train_test_split"
   ]
  },
  {
   "cell_type": "code",
   "execution_count": 23,
   "metadata": {},
   "outputs": [],
   "source": [
    "X = traindata[columns]"
   ]
  },
  {
   "cell_type": "code",
   "execution_count": 24,
   "metadata": {},
   "outputs": [],
   "source": [
    "y = traindata['longitude']"
   ]
  },
  {
   "cell_type": "code",
   "execution_count": 25,
   "metadata": {},
   "outputs": [],
   "source": [
    "X_train, X_val, y_train, y_val = train_test_split(X, y, test_size=0.20,random_state=42)"
   ]
  },
  {
   "cell_type": "code",
   "execution_count": 26,
   "metadata": {},
   "outputs": [
    {
     "data": {
      "text/html": [
       "<div>\n",
       "<style scoped>\n",
       "    .dataframe tbody tr th:only-of-type {\n",
       "        vertical-align: middle;\n",
       "    }\n",
       "\n",
       "    .dataframe tbody tr th {\n",
       "        vertical-align: top;\n",
       "    }\n",
       "\n",
       "    .dataframe thead th {\n",
       "        text-align: right;\n",
       "    }\n",
       "</style>\n",
       "<table border=\"1\" class=\"dataframe\">\n",
       "  <thead>\n",
       "    <tr style=\"text-align: right;\">\n",
       "      <th></th>\n",
       "      <th>aircraft</th>\n",
       "      <th>baroAltitude</th>\n",
       "      <th>timestamp_1</th>\n",
       "      <th>signalstrength_1</th>\n",
       "      <th>latitude_1</th>\n",
       "      <th>longitude_1</th>\n",
       "      <th>height_1</th>\n",
       "      <th>type_1</th>\n",
       "      <th>timestamp_2</th>\n",
       "      <th>signalstrength_2</th>\n",
       "      <th>latitude_2</th>\n",
       "      <th>longitude_2</th>\n",
       "      <th>height_2</th>\n",
       "      <th>type_2</th>\n",
       "    </tr>\n",
       "  </thead>\n",
       "  <tbody>\n",
       "    <tr>\n",
       "      <th>count</th>\n",
       "      <td>1.471670e+06</td>\n",
       "      <td>1.471670e+06</td>\n",
       "      <td>1.471670e+06</td>\n",
       "      <td>1.471670e+06</td>\n",
       "      <td>1.471670e+06</td>\n",
       "      <td>1.471670e+06</td>\n",
       "      <td>1.471670e+06</td>\n",
       "      <td>1.471670e+06</td>\n",
       "      <td>1.471670e+06</td>\n",
       "      <td>1.471670e+06</td>\n",
       "      <td>1.471670e+06</td>\n",
       "      <td>1.471670e+06</td>\n",
       "      <td>1.471670e+06</td>\n",
       "      <td>1.471670e+06</td>\n",
       "    </tr>\n",
       "    <tr>\n",
       "      <th>mean</th>\n",
       "      <td>1.166175e+03</td>\n",
       "      <td>9.043778e+03</td>\n",
       "      <td>1.815486e+12</td>\n",
       "      <td>9.326807e+01</td>\n",
       "      <td>4.902831e+01</td>\n",
       "      <td>8.235595e+00</td>\n",
       "      <td>3.704765e+02</td>\n",
       "      <td>2.982000e+00</td>\n",
       "      <td>1.815487e+12</td>\n",
       "      <td>6.560352e+01</td>\n",
       "      <td>4.895372e+01</td>\n",
       "      <td>8.390898e+00</td>\n",
       "      <td>3.636438e+02</td>\n",
       "      <td>2.924804e+00</td>\n",
       "    </tr>\n",
       "    <tr>\n",
       "      <th>std</th>\n",
       "      <td>6.758651e+02</td>\n",
       "      <td>2.908080e+03</td>\n",
       "      <td>1.029516e+12</td>\n",
       "      <td>3.005323e+01</td>\n",
       "      <td>2.965344e+00</td>\n",
       "      <td>3.876307e+00</td>\n",
       "      <td>3.719401e+02</td>\n",
       "      <td>1.329510e-01</td>\n",
       "      <td>1.029516e+12</td>\n",
       "      <td>2.812188e+01</td>\n",
       "      <td>2.957153e+00</td>\n",
       "      <td>3.900374e+00</td>\n",
       "      <td>3.433074e+02</td>\n",
       "      <td>2.637067e-01</td>\n",
       "    </tr>\n",
       "    <tr>\n",
       "      <th>min</th>\n",
       "      <td>1.000000e+00</td>\n",
       "      <td>-1.524000e+01</td>\n",
       "      <td>7.616059e+08</td>\n",
       "      <td>0.000000e+00</td>\n",
       "      <td>3.717137e+01</td>\n",
       "      <td>-9.354864e+00</td>\n",
       "      <td>-1.820427e+00</td>\n",
       "      <td>2.000000e+00</td>\n",
       "      <td>8.461945e+08</td>\n",
       "      <td>0.000000e+00</td>\n",
       "      <td>3.717137e+01</td>\n",
       "      <td>-9.354864e+00</td>\n",
       "      <td>-1.820427e+00</td>\n",
       "      <td>2.000000e+00</td>\n",
       "    </tr>\n",
       "    <tr>\n",
       "      <th>25%</th>\n",
       "      <td>5.880000e+02</td>\n",
       "      <td>7.307580e+03</td>\n",
       "      <td>9.383305e+11</td>\n",
       "      <td>7.100000e+01</td>\n",
       "      <td>4.724829e+01</td>\n",
       "      <td>6.684991e+00</td>\n",
       "      <td>4.390107e+01</td>\n",
       "      <td>3.000000e+00</td>\n",
       "      <td>9.383308e+11</td>\n",
       "      <td>4.400000e+01</td>\n",
       "      <td>4.724829e+01</td>\n",
       "      <td>7.353797e+00</td>\n",
       "      <td>9.262064e+01</td>\n",
       "      <td>3.000000e+00</td>\n",
       "    </tr>\n",
       "    <tr>\n",
       "      <th>50%</th>\n",
       "      <td>1.148000e+03</td>\n",
       "      <td>1.036320e+04</td>\n",
       "      <td>1.812513e+12</td>\n",
       "      <td>9.300000e+01</td>\n",
       "      <td>4.836564e+01</td>\n",
       "      <td>8.487752e+00</td>\n",
       "      <td>3.028820e+02</td>\n",
       "      <td>3.000000e+00</td>\n",
       "      <td>1.812513e+12</td>\n",
       "      <td>6.400000e+01</td>\n",
       "      <td>4.836564e+01</td>\n",
       "      <td>8.487752e+00</td>\n",
       "      <td>2.770150e+02</td>\n",
       "      <td>3.000000e+00</td>\n",
       "    </tr>\n",
       "    <tr>\n",
       "      <th>75%</th>\n",
       "      <td>1.773000e+03</td>\n",
       "      <td>1.127760e+04</td>\n",
       "      <td>2.701769e+12</td>\n",
       "      <td>1.150000e+02</td>\n",
       "      <td>5.124281e+01</td>\n",
       "      <td>1.028008e+01</td>\n",
       "      <td>5.293928e+02</td>\n",
       "      <td>3.000000e+00</td>\n",
       "      <td>2.701775e+12</td>\n",
       "      <td>8.600000e+01</td>\n",
       "      <td>5.093708e+01</td>\n",
       "      <td>1.022540e+01</td>\n",
       "      <td>5.027037e+02</td>\n",
       "      <td>3.000000e+00</td>\n",
       "    </tr>\n",
       "    <tr>\n",
       "      <th>max</th>\n",
       "      <td>2.319000e+03</td>\n",
       "      <td>1.372362e+04</td>\n",
       "      <td>3.600961e+12</td>\n",
       "      <td>2.550000e+02</td>\n",
       "      <td>6.018949e+01</td>\n",
       "      <td>2.483313e+01</td>\n",
       "      <td>1.699393e+03</td>\n",
       "      <td>3.000000e+00</td>\n",
       "      <td>3.601255e+12</td>\n",
       "      <td>1.890000e+02</td>\n",
       "      <td>6.018949e+01</td>\n",
       "      <td>2.483313e+01</td>\n",
       "      <td>1.699393e+03</td>\n",
       "      <td>3.000000e+00</td>\n",
       "    </tr>\n",
       "  </tbody>\n",
       "</table>\n",
       "</div>"
      ],
      "text/plain": [
       "           aircraft  baroAltitude   timestamp_1  signalstrength_1  \\\n",
       "count  1.471670e+06  1.471670e+06  1.471670e+06      1.471670e+06   \n",
       "mean   1.166175e+03  9.043778e+03  1.815486e+12      9.326807e+01   \n",
       "std    6.758651e+02  2.908080e+03  1.029516e+12      3.005323e+01   \n",
       "min    1.000000e+00 -1.524000e+01  7.616059e+08      0.000000e+00   \n",
       "25%    5.880000e+02  7.307580e+03  9.383305e+11      7.100000e+01   \n",
       "50%    1.148000e+03  1.036320e+04  1.812513e+12      9.300000e+01   \n",
       "75%    1.773000e+03  1.127760e+04  2.701769e+12      1.150000e+02   \n",
       "max    2.319000e+03  1.372362e+04  3.600961e+12      2.550000e+02   \n",
       "\n",
       "         latitude_1   longitude_1      height_1        type_1   timestamp_2  \\\n",
       "count  1.471670e+06  1.471670e+06  1.471670e+06  1.471670e+06  1.471670e+06   \n",
       "mean   4.902831e+01  8.235595e+00  3.704765e+02  2.982000e+00  1.815487e+12   \n",
       "std    2.965344e+00  3.876307e+00  3.719401e+02  1.329510e-01  1.029516e+12   \n",
       "min    3.717137e+01 -9.354864e+00 -1.820427e+00  2.000000e+00  8.461945e+08   \n",
       "25%    4.724829e+01  6.684991e+00  4.390107e+01  3.000000e+00  9.383308e+11   \n",
       "50%    4.836564e+01  8.487752e+00  3.028820e+02  3.000000e+00  1.812513e+12   \n",
       "75%    5.124281e+01  1.028008e+01  5.293928e+02  3.000000e+00  2.701775e+12   \n",
       "max    6.018949e+01  2.483313e+01  1.699393e+03  3.000000e+00  3.601255e+12   \n",
       "\n",
       "       signalstrength_2    latitude_2   longitude_2      height_2  \\\n",
       "count      1.471670e+06  1.471670e+06  1.471670e+06  1.471670e+06   \n",
       "mean       6.560352e+01  4.895372e+01  8.390898e+00  3.636438e+02   \n",
       "std        2.812188e+01  2.957153e+00  3.900374e+00  3.433074e+02   \n",
       "min        0.000000e+00  3.717137e+01 -9.354864e+00 -1.820427e+00   \n",
       "25%        4.400000e+01  4.724829e+01  7.353797e+00  9.262064e+01   \n",
       "50%        6.400000e+01  4.836564e+01  8.487752e+00  2.770150e+02   \n",
       "75%        8.600000e+01  5.093708e+01  1.022540e+01  5.027037e+02   \n",
       "max        1.890000e+02  6.018949e+01  2.483313e+01  1.699393e+03   \n",
       "\n",
       "             type_2  \n",
       "count  1.471670e+06  \n",
       "mean   2.924804e+00  \n",
       "std    2.637067e-01  \n",
       "min    2.000000e+00  \n",
       "25%    3.000000e+00  \n",
       "50%    3.000000e+00  \n",
       "75%    3.000000e+00  \n",
       "max    3.000000e+00  "
      ]
     },
     "execution_count": 26,
     "metadata": {},
     "output_type": "execute_result"
    }
   ],
   "source": [
    "X_train.describe()"
   ]
  },
  {
   "cell_type": "code",
   "execution_count": 27,
   "metadata": {},
   "outputs": [
    {
     "name": "stdout",
     "output_type": "stream",
     "text": [
      "<class 'pandas.core.frame.DataFrame'>\n",
      "Int64Index: 1471670 entries, 1752596 to 121958\n",
      "Data columns (total 14 columns):\n",
      " #   Column            Non-Null Count    Dtype  \n",
      "---  ------            --------------    -----  \n",
      " 0   aircraft          1471670 non-null  int64  \n",
      " 1   baroAltitude      1471670 non-null  float64\n",
      " 2   timestamp_1       1471670 non-null  float64\n",
      " 3   signalstrength_1  1471670 non-null  int64  \n",
      " 4   latitude_1        1471670 non-null  float64\n",
      " 5   longitude_1       1471670 non-null  float64\n",
      " 6   height_1          1471670 non-null  float64\n",
      " 7   type_1            1471670 non-null  int64  \n",
      " 8   timestamp_2       1471670 non-null  float64\n",
      " 9   signalstrength_2  1471670 non-null  int64  \n",
      " 10  latitude_2        1471670 non-null  float64\n",
      " 11  longitude_2       1471670 non-null  float64\n",
      " 12  height_2          1471670 non-null  float64\n",
      " 13  type_2            1471670 non-null  int64  \n",
      "dtypes: float64(9), int64(5)\n",
      "memory usage: 168.4 MB\n"
     ]
    }
   ],
   "source": [
    "X_train.info()"
   ]
  },
  {
   "cell_type": "code",
   "execution_count": 28,
   "metadata": {},
   "outputs": [
    {
     "data": {
      "text/html": [
       "<div>\n",
       "<style scoped>\n",
       "    .dataframe tbody tr th:only-of-type {\n",
       "        vertical-align: middle;\n",
       "    }\n",
       "\n",
       "    .dataframe tbody tr th {\n",
       "        vertical-align: top;\n",
       "    }\n",
       "\n",
       "    .dataframe thead th {\n",
       "        text-align: right;\n",
       "    }\n",
       "</style>\n",
       "<table border=\"1\" class=\"dataframe\">\n",
       "  <thead>\n",
       "    <tr style=\"text-align: right;\">\n",
       "      <th></th>\n",
       "      <th>aircraft</th>\n",
       "      <th>baroAltitude</th>\n",
       "      <th>timestamp_1</th>\n",
       "      <th>signalstrength_1</th>\n",
       "      <th>latitude_1</th>\n",
       "      <th>longitude_1</th>\n",
       "      <th>height_1</th>\n",
       "      <th>type_1</th>\n",
       "      <th>timestamp_2</th>\n",
       "      <th>signalstrength_2</th>\n",
       "      <th>latitude_2</th>\n",
       "      <th>longitude_2</th>\n",
       "      <th>height_2</th>\n",
       "      <th>type_2</th>\n",
       "    </tr>\n",
       "  </thead>\n",
       "  <tbody>\n",
       "    <tr>\n",
       "      <th>count</th>\n",
       "      <td>367918.000000</td>\n",
       "      <td>367918.000000</td>\n",
       "      <td>3.679180e+05</td>\n",
       "      <td>367918.000000</td>\n",
       "      <td>367918.000000</td>\n",
       "      <td>367918.000000</td>\n",
       "      <td>367918.000000</td>\n",
       "      <td>367918.000000</td>\n",
       "      <td>3.679180e+05</td>\n",
       "      <td>367918.000000</td>\n",
       "      <td>367918.000000</td>\n",
       "      <td>367918.000000</td>\n",
       "      <td>367918.000000</td>\n",
       "      <td>367918.000000</td>\n",
       "    </tr>\n",
       "    <tr>\n",
       "      <th>mean</th>\n",
       "      <td>1165.053577</td>\n",
       "      <td>9040.620195</td>\n",
       "      <td>1.816171e+12</td>\n",
       "      <td>93.304274</td>\n",
       "      <td>49.032112</td>\n",
       "      <td>8.222775</td>\n",
       "      <td>369.441050</td>\n",
       "      <td>2.982018</td>\n",
       "      <td>1.816172e+12</td>\n",
       "      <td>65.580360</td>\n",
       "      <td>48.955144</td>\n",
       "      <td>8.374887</td>\n",
       "      <td>362.979266</td>\n",
       "      <td>2.924497</td>\n",
       "    </tr>\n",
       "    <tr>\n",
       "      <th>std</th>\n",
       "      <td>675.896383</td>\n",
       "      <td>2908.866212</td>\n",
       "      <td>1.029530e+12</td>\n",
       "      <td>29.981024</td>\n",
       "      <td>2.965841</td>\n",
       "      <td>3.893892</td>\n",
       "      <td>371.666942</td>\n",
       "      <td>0.132887</td>\n",
       "      <td>1.029530e+12</td>\n",
       "      <td>28.110092</td>\n",
       "      <td>2.956250</td>\n",
       "      <td>3.913508</td>\n",
       "      <td>343.563226</td>\n",
       "      <td>0.264202</td>\n",
       "    </tr>\n",
       "    <tr>\n",
       "      <th>min</th>\n",
       "      <td>1.000000</td>\n",
       "      <td>-15.240000</td>\n",
       "      <td>8.302130e+08</td>\n",
       "      <td>0.000000</td>\n",
       "      <td>37.171374</td>\n",
       "      <td>-9.354864</td>\n",
       "      <td>-1.820427</td>\n",
       "      <td>2.000000</td>\n",
       "      <td>8.303391e+08</td>\n",
       "      <td>0.000000</td>\n",
       "      <td>37.171374</td>\n",
       "      <td>-9.354864</td>\n",
       "      <td>-1.820427</td>\n",
       "      <td>2.000000</td>\n",
       "    </tr>\n",
       "    <tr>\n",
       "      <th>25%</th>\n",
       "      <td>587.000000</td>\n",
       "      <td>7299.960000</td>\n",
       "      <td>9.397500e+11</td>\n",
       "      <td>71.000000</td>\n",
       "      <td>47.248293</td>\n",
       "      <td>6.684991</td>\n",
       "      <td>43.901066</td>\n",
       "      <td>3.000000</td>\n",
       "      <td>9.397497e+11</td>\n",
       "      <td>44.000000</td>\n",
       "      <td>47.248293</td>\n",
       "      <td>7.353797</td>\n",
       "      <td>92.620644</td>\n",
       "      <td>3.000000</td>\n",
       "    </tr>\n",
       "    <tr>\n",
       "      <th>50%</th>\n",
       "      <td>1148.000000</td>\n",
       "      <td>10363.200000</td>\n",
       "      <td>1.815149e+12</td>\n",
       "      <td>93.000000</td>\n",
       "      <td>48.365643</td>\n",
       "      <td>8.487752</td>\n",
       "      <td>302.881989</td>\n",
       "      <td>3.000000</td>\n",
       "      <td>1.815149e+12</td>\n",
       "      <td>64.000000</td>\n",
       "      <td>48.365643</td>\n",
       "      <td>8.487752</td>\n",
       "      <td>277.015000</td>\n",
       "      <td>3.000000</td>\n",
       "    </tr>\n",
       "    <tr>\n",
       "      <th>75%</th>\n",
       "      <td>1768.000000</td>\n",
       "      <td>11277.600000</td>\n",
       "      <td>2.702894e+12</td>\n",
       "      <td>115.000000</td>\n",
       "      <td>51.242813</td>\n",
       "      <td>10.280076</td>\n",
       "      <td>529.392761</td>\n",
       "      <td>3.000000</td>\n",
       "      <td>2.702895e+12</td>\n",
       "      <td>86.000000</td>\n",
       "      <td>50.937081</td>\n",
       "      <td>10.225396</td>\n",
       "      <td>502.703674</td>\n",
       "      <td>3.000000</td>\n",
       "    </tr>\n",
       "    <tr>\n",
       "      <th>max</th>\n",
       "      <td>2319.000000</td>\n",
       "      <td>13723.620000</td>\n",
       "      <td>3.600920e+12</td>\n",
       "      <td>255.000000</td>\n",
       "      <td>60.189488</td>\n",
       "      <td>24.833131</td>\n",
       "      <td>1699.392950</td>\n",
       "      <td>3.000000</td>\n",
       "      <td>3.600920e+12</td>\n",
       "      <td>182.000000</td>\n",
       "      <td>60.189488</td>\n",
       "      <td>24.833131</td>\n",
       "      <td>1699.392950</td>\n",
       "      <td>3.000000</td>\n",
       "    </tr>\n",
       "  </tbody>\n",
       "</table>\n",
       "</div>"
      ],
      "text/plain": [
       "            aircraft   baroAltitude   timestamp_1  signalstrength_1  \\\n",
       "count  367918.000000  367918.000000  3.679180e+05     367918.000000   \n",
       "mean     1165.053577    9040.620195  1.816171e+12         93.304274   \n",
       "std       675.896383    2908.866212  1.029530e+12         29.981024   \n",
       "min         1.000000     -15.240000  8.302130e+08          0.000000   \n",
       "25%       587.000000    7299.960000  9.397500e+11         71.000000   \n",
       "50%      1148.000000   10363.200000  1.815149e+12         93.000000   \n",
       "75%      1768.000000   11277.600000  2.702894e+12        115.000000   \n",
       "max      2319.000000   13723.620000  3.600920e+12        255.000000   \n",
       "\n",
       "          latitude_1    longitude_1       height_1         type_1  \\\n",
       "count  367918.000000  367918.000000  367918.000000  367918.000000   \n",
       "mean       49.032112       8.222775     369.441050       2.982018   \n",
       "std         2.965841       3.893892     371.666942       0.132887   \n",
       "min        37.171374      -9.354864      -1.820427       2.000000   \n",
       "25%        47.248293       6.684991      43.901066       3.000000   \n",
       "50%        48.365643       8.487752     302.881989       3.000000   \n",
       "75%        51.242813      10.280076     529.392761       3.000000   \n",
       "max        60.189488      24.833131    1699.392950       3.000000   \n",
       "\n",
       "        timestamp_2  signalstrength_2     latitude_2    longitude_2  \\\n",
       "count  3.679180e+05     367918.000000  367918.000000  367918.000000   \n",
       "mean   1.816172e+12         65.580360      48.955144       8.374887   \n",
       "std    1.029530e+12         28.110092       2.956250       3.913508   \n",
       "min    8.303391e+08          0.000000      37.171374      -9.354864   \n",
       "25%    9.397497e+11         44.000000      47.248293       7.353797   \n",
       "50%    1.815149e+12         64.000000      48.365643       8.487752   \n",
       "75%    2.702895e+12         86.000000      50.937081      10.225396   \n",
       "max    3.600920e+12        182.000000      60.189488      24.833131   \n",
       "\n",
       "            height_2         type_2  \n",
       "count  367918.000000  367918.000000  \n",
       "mean      362.979266       2.924497  \n",
       "std       343.563226       0.264202  \n",
       "min        -1.820427       2.000000  \n",
       "25%        92.620644       3.000000  \n",
       "50%       277.015000       3.000000  \n",
       "75%       502.703674       3.000000  \n",
       "max      1699.392950       3.000000  "
      ]
     },
     "execution_count": 28,
     "metadata": {},
     "output_type": "execute_result"
    }
   ],
   "source": [
    "X_val.describe()"
   ]
  },
  {
   "cell_type": "code",
   "execution_count": 29,
   "metadata": {},
   "outputs": [
    {
     "data": {
      "text/html": [
       "<div>\n",
       "<style scoped>\n",
       "    .dataframe tbody tr th:only-of-type {\n",
       "        vertical-align: middle;\n",
       "    }\n",
       "\n",
       "    .dataframe tbody tr th {\n",
       "        vertical-align: top;\n",
       "    }\n",
       "\n",
       "    .dataframe thead th {\n",
       "        text-align: right;\n",
       "    }\n",
       "</style>\n",
       "<table border=\"1\" class=\"dataframe\">\n",
       "  <thead>\n",
       "    <tr style=\"text-align: right;\">\n",
       "      <th></th>\n",
       "      <th>aircraft</th>\n",
       "      <th>baroAltitude</th>\n",
       "      <th>timestamp_1</th>\n",
       "      <th>signalstrength_1</th>\n",
       "      <th>latitude_1</th>\n",
       "      <th>longitude_1</th>\n",
       "      <th>height_1</th>\n",
       "      <th>type_1</th>\n",
       "      <th>timestamp_2</th>\n",
       "      <th>signalstrength_2</th>\n",
       "      <th>latitude_2</th>\n",
       "      <th>longitude_2</th>\n",
       "      <th>height_2</th>\n",
       "      <th>type_2</th>\n",
       "    </tr>\n",
       "  </thead>\n",
       "  <tbody>\n",
       "    <tr>\n",
       "      <th>1695957</th>\n",
       "      <td>490</td>\n",
       "      <td>8846.82</td>\n",
       "      <td>3.322995e+12</td>\n",
       "      <td>57</td>\n",
       "      <td>46.762394</td>\n",
       "      <td>7.600568</td>\n",
       "      <td>626.926208</td>\n",
       "      <td>3</td>\n",
       "      <td>3.322995e+12</td>\n",
       "      <td>47</td>\n",
       "      <td>50.937081</td>\n",
       "      <td>7.353797</td>\n",
       "      <td>262.311051</td>\n",
       "      <td>3</td>\n",
       "    </tr>\n",
       "    <tr>\n",
       "      <th>1765467</th>\n",
       "      <td>2159</td>\n",
       "      <td>11277.60</td>\n",
       "      <td>3.458911e+12</td>\n",
       "      <td>109</td>\n",
       "      <td>46.479491</td>\n",
       "      <td>6.837746</td>\n",
       "      <td>684.156348</td>\n",
       "      <td>3</td>\n",
       "      <td>3.458912e+12</td>\n",
       "      <td>28</td>\n",
       "      <td>47.248293</td>\n",
       "      <td>8.529757</td>\n",
       "      <td>625.144800</td>\n",
       "      <td>3</td>\n",
       "    </tr>\n",
       "    <tr>\n",
       "      <th>1499837</th>\n",
       "      <td>2225</td>\n",
       "      <td>4945.38</td>\n",
       "      <td>2.936946e+12</td>\n",
       "      <td>90</td>\n",
       "      <td>51.833122</td>\n",
       "      <td>4.142814</td>\n",
       "      <td>-1.820427</td>\n",
       "      <td>3</td>\n",
       "      <td>2.936946e+12</td>\n",
       "      <td>37</td>\n",
       "      <td>51.486576</td>\n",
       "      <td>7.597741</td>\n",
       "      <td>146.599701</td>\n",
       "      <td>3</td>\n",
       "    </tr>\n",
       "    <tr>\n",
       "      <th>1307347</th>\n",
       "      <td>476</td>\n",
       "      <td>9669.78</td>\n",
       "      <td>2.560377e+12</td>\n",
       "      <td>119</td>\n",
       "      <td>51.341648</td>\n",
       "      <td>5.893123</td>\n",
       "      <td>39.085175</td>\n",
       "      <td>3</td>\n",
       "      <td>2.560377e+12</td>\n",
       "      <td>99</td>\n",
       "      <td>51.242813</td>\n",
       "      <td>6.684991</td>\n",
       "      <td>43.901066</td>\n",
       "      <td>3</td>\n",
       "    </tr>\n",
       "    <tr>\n",
       "      <th>954303</th>\n",
       "      <td>884</td>\n",
       "      <td>11582.40</td>\n",
       "      <td>1.877413e+12</td>\n",
       "      <td>109</td>\n",
       "      <td>50.862327</td>\n",
       "      <td>4.685708</td>\n",
       "      <td>19.812000</td>\n",
       "      <td>3</td>\n",
       "      <td>1.877413e+12</td>\n",
       "      <td>72</td>\n",
       "      <td>51.341648</td>\n",
       "      <td>5.893123</td>\n",
       "      <td>39.085175</td>\n",
       "      <td>3</td>\n",
       "    </tr>\n",
       "    <tr>\n",
       "      <th>...</th>\n",
       "      <td>...</td>\n",
       "      <td>...</td>\n",
       "      <td>...</td>\n",
       "      <td>...</td>\n",
       "      <td>...</td>\n",
       "      <td>...</td>\n",
       "      <td>...</td>\n",
       "      <td>...</td>\n",
       "      <td>...</td>\n",
       "      <td>...</td>\n",
       "      <td>...</td>\n",
       "      <td>...</td>\n",
       "      <td>...</td>\n",
       "      <td>...</td>\n",
       "    </tr>\n",
       "    <tr>\n",
       "      <th>1159582</th>\n",
       "      <td>283</td>\n",
       "      <td>8534.40</td>\n",
       "      <td>2.271389e+12</td>\n",
       "      <td>99</td>\n",
       "      <td>46.762394</td>\n",
       "      <td>7.600568</td>\n",
       "      <td>626.926208</td>\n",
       "      <td>3</td>\n",
       "      <td>2.271388e+12</td>\n",
       "      <td>31</td>\n",
       "      <td>46.762415</td>\n",
       "      <td>7.600441</td>\n",
       "      <td>594.318000</td>\n",
       "      <td>2</td>\n",
       "    </tr>\n",
       "    <tr>\n",
       "      <th>1155095</th>\n",
       "      <td>942</td>\n",
       "      <td>7749.54</td>\n",
       "      <td>2.262615e+12</td>\n",
       "      <td>109</td>\n",
       "      <td>48.365643</td>\n",
       "      <td>11.478421</td>\n",
       "      <td>497.984192</td>\n",
       "      <td>3</td>\n",
       "      <td>2.262615e+12</td>\n",
       "      <td>38</td>\n",
       "      <td>48.178822</td>\n",
       "      <td>12.235501</td>\n",
       "      <td>529.392761</td>\n",
       "      <td>3</td>\n",
       "    </tr>\n",
       "    <tr>\n",
       "      <th>374815</th>\n",
       "      <td>1853</td>\n",
       "      <td>6644.64</td>\n",
       "      <td>7.679178e+11</td>\n",
       "      <td>91</td>\n",
       "      <td>59.896488</td>\n",
       "      <td>10.805318</td>\n",
       "      <td>128.565903</td>\n",
       "      <td>3</td>\n",
       "      <td>7.679178e+11</td>\n",
       "      <td>67</td>\n",
       "      <td>59.689396</td>\n",
       "      <td>10.344382</td>\n",
       "      <td>5.966146</td>\n",
       "      <td>3</td>\n",
       "    </tr>\n",
       "    <tr>\n",
       "      <th>1763650</th>\n",
       "      <td>1781</td>\n",
       "      <td>10363.20</td>\n",
       "      <td>3.455358e+12</td>\n",
       "      <td>101</td>\n",
       "      <td>48.178822</td>\n",
       "      <td>12.235501</td>\n",
       "      <td>529.392761</td>\n",
       "      <td>3</td>\n",
       "      <td>3.455358e+12</td>\n",
       "      <td>88</td>\n",
       "      <td>48.365643</td>\n",
       "      <td>11.478421</td>\n",
       "      <td>497.984192</td>\n",
       "      <td>3</td>\n",
       "    </tr>\n",
       "    <tr>\n",
       "      <th>1832282</th>\n",
       "      <td>118</td>\n",
       "      <td>3901.44</td>\n",
       "      <td>3.586852e+12</td>\n",
       "      <td>63</td>\n",
       "      <td>51.245861</td>\n",
       "      <td>-0.768550</td>\n",
       "      <td>89.977486</td>\n",
       "      <td>3</td>\n",
       "      <td>3.586852e+12</td>\n",
       "      <td>60</td>\n",
       "      <td>51.872524</td>\n",
       "      <td>-0.506857</td>\n",
       "      <td>181.261017</td>\n",
       "      <td>3</td>\n",
       "    </tr>\n",
       "  </tbody>\n",
       "</table>\n",
       "<p>367918 rows × 14 columns</p>\n",
       "</div>"
      ],
      "text/plain": [
       "         aircraft  baroAltitude   timestamp_1  signalstrength_1  latitude_1  \\\n",
       "1695957       490       8846.82  3.322995e+12                57   46.762394   \n",
       "1765467      2159      11277.60  3.458911e+12               109   46.479491   \n",
       "1499837      2225       4945.38  2.936946e+12                90   51.833122   \n",
       "1307347       476       9669.78  2.560377e+12               119   51.341648   \n",
       "954303        884      11582.40  1.877413e+12               109   50.862327   \n",
       "...           ...           ...           ...               ...         ...   \n",
       "1159582       283       8534.40  2.271389e+12                99   46.762394   \n",
       "1155095       942       7749.54  2.262615e+12               109   48.365643   \n",
       "374815       1853       6644.64  7.679178e+11                91   59.896488   \n",
       "1763650      1781      10363.20  3.455358e+12               101   48.178822   \n",
       "1832282       118       3901.44  3.586852e+12                63   51.245861   \n",
       "\n",
       "         longitude_1    height_1  type_1   timestamp_2  signalstrength_2  \\\n",
       "1695957     7.600568  626.926208       3  3.322995e+12                47   \n",
       "1765467     6.837746  684.156348       3  3.458912e+12                28   \n",
       "1499837     4.142814   -1.820427       3  2.936946e+12                37   \n",
       "1307347     5.893123   39.085175       3  2.560377e+12                99   \n",
       "954303      4.685708   19.812000       3  1.877413e+12                72   \n",
       "...              ...         ...     ...           ...               ...   \n",
       "1159582     7.600568  626.926208       3  2.271388e+12                31   \n",
       "1155095    11.478421  497.984192       3  2.262615e+12                38   \n",
       "374815     10.805318  128.565903       3  7.679178e+11                67   \n",
       "1763650    12.235501  529.392761       3  3.455358e+12                88   \n",
       "1832282    -0.768550   89.977486       3  3.586852e+12                60   \n",
       "\n",
       "         latitude_2  longitude_2    height_2  type_2  \n",
       "1695957   50.937081     7.353797  262.311051       3  \n",
       "1765467   47.248293     8.529757  625.144800       3  \n",
       "1499837   51.486576     7.597741  146.599701       3  \n",
       "1307347   51.242813     6.684991   43.901066       3  \n",
       "954303    51.341648     5.893123   39.085175       3  \n",
       "...             ...          ...         ...     ...  \n",
       "1159582   46.762415     7.600441  594.318000       2  \n",
       "1155095   48.178822    12.235501  529.392761       3  \n",
       "374815    59.689396    10.344382    5.966146       3  \n",
       "1763650   48.365643    11.478421  497.984192       3  \n",
       "1832282   51.872524    -0.506857  181.261017       3  \n",
       "\n",
       "[367918 rows x 14 columns]"
      ]
     },
     "execution_count": 29,
     "metadata": {},
     "output_type": "execute_result"
    }
   ],
   "source": [
    "X_val"
   ]
  },
  {
   "cell_type": "markdown",
   "metadata": {},
   "source": [
    "## Zielparameter und Lernaufgabe"
   ]
  },
  {
   "cell_type": "markdown",
   "metadata": {},
   "source": [
    "Zielparamter : Längengrad"
   ]
  },
  {
   "cell_type": "markdown",
   "metadata": {},
   "source": [
    "Lernaufgabe: Regressionsaufgabe"
   ]
  },
  {
   "cell_type": "markdown",
   "metadata": {},
   "source": [
    "## Metrik festlegen für Lernerfolg"
   ]
  },
  {
   "cell_type": "markdown",
   "metadata": {},
   "source": [
    "Auswahl der folgenden Metriken, da diese für die Bewertung bei Regressionsaufgaben typischerweise bestimmt werden:\n",
    "\n",
    "- MAPE (Mean Average Percent Error)\n",
    "- MAE (Mean Absolute Error)\n",
    "- MSE (Mean Squared Error)\n",
    "- RMSE (Root Mean Squared Error)"
   ]
  },
  {
   "cell_type": "markdown",
   "metadata": {},
   "source": [
    "## Erkenntnissfreie Baseline Methode (Mittelwert)"
   ]
  },
  {
   "cell_type": "markdown",
   "metadata": {},
   "source": [
    "Mittelwert aller Zielwerte"
   ]
  },
  {
   "cell_type": "code",
   "execution_count": 24,
   "metadata": {},
   "outputs": [
    {
     "data": {
      "text/plain": [
       "8.189258549828196"
      ]
     },
     "execution_count": 24,
     "metadata": {},
     "output_type": "execute_result"
    }
   ],
   "source": [
    "y_mean = y_train.mean()\n",
    "y_mean"
   ]
  },
  {
   "cell_type": "markdown",
   "metadata": {},
   "source": [
    "**DummyRegressor sklearn Implementation**"
   ]
  },
  {
   "cell_type": "code",
   "execution_count": 27,
   "metadata": {},
   "outputs": [],
   "source": [
    "# from sklearn.dummy import DummyRegressor"
   ]
  },
  {
   "cell_type": "code",
   "execution_count": 28,
   "metadata": {},
   "outputs": [],
   "source": [
    "dummy_regr = DummyRegressor(strategy=\"mean\")"
   ]
  },
  {
   "cell_type": "code",
   "execution_count": 29,
   "metadata": {},
   "outputs": [
    {
     "data": {
      "text/plain": [
       "DummyRegressor()"
      ]
     },
     "execution_count": 29,
     "metadata": {},
     "output_type": "execute_result"
    }
   ],
   "source": [
    "dummy_regr.fit(X_train, y_train)"
   ]
  },
  {
   "cell_type": "code",
   "execution_count": 30,
   "metadata": {},
   "outputs": [],
   "source": [
    "y_dummy = dummy_regr.predict(X_val)"
   ]
  },
  {
   "cell_type": "markdown",
   "metadata": {},
   "source": [
    "## Linear Regression"
   ]
  },
  {
   "cell_type": "code",
   "execution_count": 31,
   "metadata": {},
   "outputs": [],
   "source": [
    "# from sklearn.linear_model import LinearRegression"
   ]
  },
  {
   "cell_type": "code",
   "execution_count": 32,
   "metadata": {},
   "outputs": [],
   "source": [
    "reg = LinearRegression().fit(X_train, y_train)"
   ]
  },
  {
   "cell_type": "code",
   "execution_count": 33,
   "metadata": {},
   "outputs": [
    {
     "data": {
      "text/plain": [
       "0.9302039468823414"
      ]
     },
     "execution_count": 33,
     "metadata": {},
     "output_type": "execute_result"
    }
   ],
   "source": [
    "reg.score(X_val, y_val)"
   ]
  },
  {
   "cell_type": "code",
   "execution_count": 34,
   "metadata": {},
   "outputs": [],
   "source": [
    "y_linreg = reg.predict(X_val)"
   ]
  },
  {
   "cell_type": "code",
   "execution_count": 182,
   "metadata": {},
   "outputs": [
    {
     "data": {
      "text/plain": [
       "-700161726667.136"
      ]
     },
     "execution_count": 182,
     "metadata": {},
     "output_type": "execute_result"
    }
   ],
   "source": [
    "regr.score(X_val, y_val)"
   ]
  },
  {
   "cell_type": "markdown",
   "metadata": {},
   "source": [
    "## Gradient Boosting Regressor\n",
    "\n",
    "> Gradient Boosting for regression.\n",
    "GB builds an additive model in a forward stage-wise fashion; it allows for the optimization of arbitrary differentiable loss functions. In each stage a regression tree is fit on the negative gradient of the given loss function. [sklearn Doc](https://scikit-learn.org/stable/modules/generated/sklearn.ensemble.GradientBoostingRegressor.html#sklearn.ensemble.GradientBoostingRegressor)\n",
    "\n",
    "```__init__(self, *, loss='ls', learning_rate=0.1, n_estimators=100, subsample=1.0, criterion='friedman_mse', min_samples_split=2, min_samples_leaf=1, min_weight_fraction_leaf=0.0, max_depth=3, min_impurity_decrease=0.0, min_impurity_split=None, init=None, random_state=None, max_features=None, alpha=0.9, verbose=0, max_leaf_nodes=None, warm_start=False, presort='deprecated', validation_fraction=0.1, n_iter_no_change=None, tol=0.0001, ccp_alpha=0.0)```"
   ]
  },
  {
   "cell_type": "code",
   "execution_count": 35,
   "metadata": {},
   "outputs": [],
   "source": [
    "# from sklearn.ensemble import GradientBoostingRegressor"
   ]
  },
  {
   "cell_type": "code",
   "execution_count": 36,
   "metadata": {},
   "outputs": [],
   "source": [
    "gbr = GradientBoostingRegressor(random_state=0)"
   ]
  },
  {
   "cell_type": "code",
   "execution_count": 37,
   "metadata": {},
   "outputs": [
    {
     "data": {
      "text/plain": [
       "GradientBoostingRegressor(random_state=0)"
      ]
     },
     "execution_count": 37,
     "metadata": {},
     "output_type": "execute_result"
    }
   ],
   "source": [
    "gbr.fit(X_train, y_train)"
   ]
  },
  {
   "cell_type": "code",
   "execution_count": 38,
   "metadata": {},
   "outputs": [],
   "source": [
    "y_gbr = gbr.predict(X_val)"
   ]
  },
  {
   "cell_type": "code",
   "execution_count": 74,
   "metadata": {},
   "outputs": [
    {
     "data": {
      "text/plain": [
       "0.952330199022606"
      ]
     },
     "execution_count": 74,
     "metadata": {},
     "output_type": "execute_result"
    }
   ],
   "source": [
    "gbr.score(X_val, y_val)"
   ]
  },
  {
   "cell_type": "markdown",
   "metadata": {},
   "source": [
    "## Extra Trees Regressor\n",
    "\n",
    "> Extra-trees regressor implements a meta estimator that fits a number of randomized decision trees (a.k.a. extra-trees) on various sub-samples of the dataset and uses averaging to improve the predictive accuracy and control over-fitting.[sklearn Doc](https://scikit-learn.org/stable/modules/generated/sklearn.ensemble.ExtraTreesRegressor.html?highlight=extratree#sklearn.ensemble.ExtraTreesRegressor)\n",
    "\n",
    "```__init__(self, n_estimators=100, *, criterion='mse', max_depth=None, min_samples_split=2, min_samples_leaf=1, min_weight_fraction_leaf=0.0, max_features='auto', max_leaf_nodes=None, min_impurity_decrease=0.0, min_impurity_split=None, bootstrap=False, oob_score=False, n_jobs=None, random_state=None, verbose=0, warm_start=False, ccp_alpha=0.0, max_samples=None)```"
   ]
  },
  {
   "cell_type": "code",
   "execution_count": 38,
   "metadata": {},
   "outputs": [],
   "source": [
    "from sklearn.ensemble import ExtraTreesRegressor"
   ]
  },
  {
   "cell_type": "code",
   "execution_count": 39,
   "metadata": {},
   "outputs": [],
   "source": [
    "extra = ExtraTreesRegressor(n_estimators=100, random_state=0, n_jobs=-1,verbose=1)"
   ]
  },
  {
   "cell_type": "code",
   "execution_count": 40,
   "metadata": {},
   "outputs": [
    {
     "name": "stderr",
     "output_type": "stream",
     "text": [
      "[Parallel(n_jobs=-1)]: Using backend ThreadingBackend with 4 concurrent workers.\n",
      "[Parallel(n_jobs=-1)]: Done  42 tasks      | elapsed:  4.2min\n",
      "[Parallel(n_jobs=-1)]: Done 100 out of 100 | elapsed:  9.1min finished\n"
     ]
    },
    {
     "data": {
      "text/plain": [
       "ExtraTreesRegressor(n_jobs=-1, random_state=0, verbose=1)"
      ]
     },
     "execution_count": 40,
     "metadata": {},
     "output_type": "execute_result"
    }
   ],
   "source": [
    "extra.fit(X_train,y_train)"
   ]
  },
  {
   "cell_type": "code",
   "execution_count": 41,
   "metadata": {},
   "outputs": [
    {
     "name": "stderr",
     "output_type": "stream",
     "text": [
      "[Parallel(n_jobs=4)]: Using backend ThreadingBackend with 4 concurrent workers.\n",
      "[Parallel(n_jobs=4)]: Done  42 tasks      | elapsed:   20.5s\n",
      "[Parallel(n_jobs=4)]: Done 100 out of 100 | elapsed:   50.7s finished\n"
     ]
    }
   ],
   "source": [
    "y_extra = extra.predict(X_val)"
   ]
  },
  {
   "cell_type": "markdown",
   "metadata": {},
   "source": [
    "## Evaluierung und Vergleich der Methoden"
   ]
  },
  {
   "cell_type": "markdown",
   "metadata": {},
   "source": [
    "**MAPE Methode** \n",
    "- Methode ist nicht in sklearn Regression Metrics implementiert"
   ]
  },
  {
   "cell_type": "code",
   "execution_count": 40,
   "metadata": {},
   "outputs": [],
   "source": [
    "def mean_absolute_percentage_error(y_true, y_pred): \n",
    "    y_true, y_pred = np.array(y_true), np.array(y_pred)\n",
    "    return np.mean(np.abs((y_true - y_pred) / y_true)) * 100"
   ]
  },
  {
   "cell_type": "markdown",
   "metadata": {},
   "source": [
    "**Null-Längengrad-Werte für MAPE eliminieren**\n",
    "- Für die MAPE Methode darf der Validierungsdatensatz keine 0 Werte enthalten, da sonst Division by Zero Error\n",
    "\n",
    "- Folgende Aufbereitung ist notwendig, weil die Predictions als Numpy Daten ohne die ID Values als Index vorliegen und wir daher die Row kennen müssen, die wir im Predictions Datensatz jeweils löschen müssen, damit es wieder passt"
   ]
  },
  {
   "cell_type": "code",
   "execution_count": 41,
   "metadata": {},
   "outputs": [],
   "source": [
    "y_val_no_zero = y_val.reset_index()"
   ]
  },
  {
   "cell_type": "code",
   "execution_count": 42,
   "metadata": {},
   "outputs": [],
   "source": [
    "y_val_no_zero.drop('index',axis=1,inplace=True)"
   ]
  },
  {
   "cell_type": "code",
   "execution_count": 43,
   "metadata": {},
   "outputs": [
    {
     "data": {
      "text/html": [
       "<div>\n",
       "<style scoped>\n",
       "    .dataframe tbody tr th:only-of-type {\n",
       "        vertical-align: middle;\n",
       "    }\n",
       "\n",
       "    .dataframe tbody tr th {\n",
       "        vertical-align: top;\n",
       "    }\n",
       "\n",
       "    .dataframe thead th {\n",
       "        text-align: right;\n",
       "    }\n",
       "</style>\n",
       "<table border=\"1\" class=\"dataframe\">\n",
       "  <thead>\n",
       "    <tr style=\"text-align: right;\">\n",
       "      <th></th>\n",
       "      <th>longitude</th>\n",
       "    </tr>\n",
       "  </thead>\n",
       "  <tbody>\n",
       "    <tr>\n",
       "      <th>2356</th>\n",
       "      <td>0.0</td>\n",
       "    </tr>\n",
       "  </tbody>\n",
       "</table>\n",
       "</div>"
      ],
      "text/plain": [
       "      longitude\n",
       "2356        0.0"
      ]
     },
     "execution_count": 43,
     "metadata": {},
     "output_type": "execute_result"
    }
   ],
   "source": [
    "y_val_no_zero.loc[(y_val_no_zero['longitude']==0)]"
   ]
  },
  {
   "cell_type": "code",
   "execution_count": 44,
   "metadata": {},
   "outputs": [],
   "source": [
    "#Null-Längengrad\n",
    "y_val_no_zero.drop(index=2356,inplace=True)"
   ]
  },
  {
   "cell_type": "code",
   "execution_count": 45,
   "metadata": {},
   "outputs": [
    {
     "data": {
      "text/plain": [
       "(367917, 1)"
      ]
     },
     "execution_count": 45,
     "metadata": {},
     "output_type": "execute_result"
    }
   ],
   "source": [
    "y_val_no_zero.shape"
   ]
  },
  {
   "cell_type": "code",
   "execution_count": 46,
   "metadata": {},
   "outputs": [
    {
     "data": {
      "text/plain": [
       "0          6.448341\n",
       "1          6.447970\n",
       "2          5.995553\n",
       "3          5.753021\n",
       "4          4.195099\n",
       "            ...    \n",
       "367913     6.464424\n",
       "367914    12.217158\n",
       "367915    10.415628\n",
       "367916    11.164293\n",
       "367917    -0.791016\n",
       "Name: longitude, Length: 367917, dtype: float64"
      ]
     },
     "execution_count": 46,
     "metadata": {},
     "output_type": "execute_result"
    }
   ],
   "source": [
    "#Werte aus y_val ohne den Null-Längengrad zur Verwendung für die MAPE Berechnung\n",
    "y_val_no_zero['longitude']"
   ]
  },
  {
   "cell_type": "markdown",
   "metadata": {},
   "source": [
    "### Dummy Auswertung"
   ]
  },
  {
   "cell_type": "markdown",
   "metadata": {},
   "source": [
    "MAPE"
   ]
  },
  {
   "cell_type": "code",
   "execution_count": 47,
   "metadata": {},
   "outputs": [],
   "source": [
    "#Korrespondierende Zelle in den Predictions löschen, damit Dimensionen wieder passen.\n",
    "#Index dafür notwendig, weil npArray\n",
    "y_dummy_mape = np.delete(y_dummy, 2356)"
   ]
  },
  {
   "cell_type": "code",
   "execution_count": 48,
   "metadata": {},
   "outputs": [
    {
     "data": {
      "text/plain": [
       "414.21794420896737"
      ]
     },
     "execution_count": 48,
     "metadata": {},
     "output_type": "execute_result"
    }
   ],
   "source": [
    "mape_dummy = mean_absolute_percentage_error(y_val_no_zero['longitude'],y_dummy_mape)\n",
    "mape_dummy"
   ]
  },
  {
   "cell_type": "markdown",
   "metadata": {},
   "source": [
    "MAE"
   ]
  },
  {
   "cell_type": "code",
   "execution_count": 49,
   "metadata": {},
   "outputs": [
    {
     "data": {
      "text/plain": [
       "2.859672781183205"
      ]
     },
     "execution_count": 49,
     "metadata": {},
     "output_type": "execute_result"
    }
   ],
   "source": [
    "mae_dummy = mean_absolute_error(y_val, y_dummy)\n",
    "mae_dummy"
   ]
  },
  {
   "cell_type": "markdown",
   "metadata": {},
   "source": [
    "MSE"
   ]
  },
  {
   "cell_type": "code",
   "execution_count": 50,
   "metadata": {},
   "outputs": [
    {
     "data": {
      "text/plain": [
       "16.141710005488516"
      ]
     },
     "execution_count": 50,
     "metadata": {},
     "output_type": "execute_result"
    }
   ],
   "source": [
    "mse_dummy = mean_squared_error(y_val, y_dummy)\n",
    "mse_dummy"
   ]
  },
  {
   "cell_type": "markdown",
   "metadata": {},
   "source": [
    "RMSE"
   ]
  },
  {
   "cell_type": "code",
   "execution_count": 94,
   "metadata": {},
   "outputs": [
    {
     "data": {
      "text/plain": [
       "4.017674701302797"
      ]
     },
     "execution_count": 94,
     "metadata": {},
     "output_type": "execute_result"
    }
   ],
   "source": [
    "rmse_dummy =  math. sqrt(mse_dummy)\n",
    "rmse_dummy"
   ]
  },
  {
   "cell_type": "markdown",
   "metadata": {},
   "source": [
    "### Lineare Regression Auswertung"
   ]
  },
  {
   "cell_type": "markdown",
   "metadata": {},
   "source": [
    "MAPE"
   ]
  },
  {
   "cell_type": "code",
   "execution_count": 51,
   "metadata": {},
   "outputs": [],
   "source": [
    "y_linreg_mape = np.delete(y_linreg, 2356)"
   ]
  },
  {
   "cell_type": "code",
   "execution_count": 52,
   "metadata": {},
   "outputs": [
    {
     "data": {
      "text/plain": [
       "52.14663510780066"
      ]
     },
     "execution_count": 52,
     "metadata": {},
     "output_type": "execute_result"
    }
   ],
   "source": [
    "mape_linreg = mean_absolute_percentage_error(y_val_no_zero['longitude'], y_linreg_mape)\n",
    "mape_linreg"
   ]
  },
  {
   "cell_type": "markdown",
   "metadata": {},
   "source": [
    "MAE"
   ]
  },
  {
   "cell_type": "code",
   "execution_count": 53,
   "metadata": {},
   "outputs": [
    {
     "data": {
      "text/plain": [
       "0.8121450307612279"
      ]
     },
     "execution_count": 53,
     "metadata": {},
     "output_type": "execute_result"
    }
   ],
   "source": [
    "mae_linreg = mean_absolute_error(y_val, y_linreg)\n",
    "mae_linreg"
   ]
  },
  {
   "cell_type": "markdown",
   "metadata": {},
   "source": [
    "MSE"
   ]
  },
  {
   "cell_type": "code",
   "execution_count": 54,
   "metadata": {},
   "outputs": [
    {
     "data": {
      "text/plain": [
       "1.1266121248136503"
      ]
     },
     "execution_count": 54,
     "metadata": {},
     "output_type": "execute_result"
    }
   ],
   "source": [
    "mse_linreg = mean_squared_error(y_val, y_linreg)\n",
    "mse_linreg"
   ]
  },
  {
   "cell_type": "markdown",
   "metadata": {},
   "source": [
    "RMSE"
   ]
  },
  {
   "cell_type": "code",
   "execution_count": 93,
   "metadata": {},
   "outputs": [
    {
     "data": {
      "text/plain": [
       "1.0614198626432663"
      ]
     },
     "execution_count": 93,
     "metadata": {},
     "output_type": "execute_result"
    }
   ],
   "source": [
    "rmse_linreg =  math.sqrt(mse_linreg)\n",
    "rmse_linreg"
   ]
  },
  {
   "cell_type": "markdown",
   "metadata": {},
   "source": [
    "### Gradient Boosting Regressor Auswertung"
   ]
  },
  {
   "cell_type": "markdown",
   "metadata": {},
   "source": [
    "MAPE"
   ]
  },
  {
   "cell_type": "code",
   "execution_count": 55,
   "metadata": {},
   "outputs": [],
   "source": [
    "y_gbr_mape = np.delete(y_gbr, 2356)"
   ]
  },
  {
   "cell_type": "code",
   "execution_count": 56,
   "metadata": {},
   "outputs": [
    {
     "data": {
      "text/plain": [
       "26.96699369745784"
      ]
     },
     "execution_count": 56,
     "metadata": {},
     "output_type": "execute_result"
    }
   ],
   "source": [
    "mape_gbr = mean_absolute_percentage_error(y_val_no_zero['longitude'], y_gbr_mape)\n",
    "mape_gbr"
   ]
  },
  {
   "cell_type": "markdown",
   "metadata": {},
   "source": [
    "MAE"
   ]
  },
  {
   "cell_type": "code",
   "execution_count": 57,
   "metadata": {},
   "outputs": [
    {
     "data": {
      "text/plain": [
       "0.6609476519090989"
      ]
     },
     "execution_count": 57,
     "metadata": {},
     "output_type": "execute_result"
    }
   ],
   "source": [
    "mae_gbr = mean_absolute_error(y_val, y_gbr)\n",
    "mae_gbr"
   ]
  },
  {
   "cell_type": "markdown",
   "metadata": {},
   "source": [
    "MSE"
   ]
  },
  {
   "cell_type": "code",
   "execution_count": 58,
   "metadata": {},
   "outputs": [
    {
     "data": {
      "text/plain": [
       "0.7694615006102428"
      ]
     },
     "execution_count": 58,
     "metadata": {},
     "output_type": "execute_result"
    }
   ],
   "source": [
    "mse_gbr = mean_squared_error(y_val,y_gbr)\n",
    "mse_gbr"
   ]
  },
  {
   "cell_type": "markdown",
   "metadata": {},
   "source": [
    "RMSE"
   ]
  },
  {
   "cell_type": "code",
   "execution_count": 92,
   "metadata": {},
   "outputs": [
    {
     "data": {
      "text/plain": [
       "0.8771895465691795"
      ]
     },
     "execution_count": 92,
     "metadata": {},
     "output_type": "execute_result"
    }
   ],
   "source": [
    "rmse_gbr =  math.sqrt(mse_gbr)\n",
    "rmse_gbr"
   ]
  },
  {
   "cell_type": "markdown",
   "metadata": {},
   "source": [
    "### Extra Trees Auswertung"
   ]
  },
  {
   "cell_type": "markdown",
   "metadata": {},
   "source": [
    "MAPE"
   ]
  },
  {
   "cell_type": "code",
   "execution_count": 183,
   "metadata": {},
   "outputs": [],
   "source": [
    "y_extra_mape = np.delete(y_extra, 2356)"
   ]
  },
  {
   "cell_type": "code",
   "execution_count": 184,
   "metadata": {},
   "outputs": [
    {
     "data": {
      "text/plain": [
       "3.5885942097223373"
      ]
     },
     "execution_count": 184,
     "metadata": {},
     "output_type": "execute_result"
    }
   ],
   "source": [
    "mape_extra = mean_absolute_percentage_error(y_val_no_zero['longitude'], y_extra_mape)\n",
    "mape_extra"
   ]
  },
  {
   "cell_type": "markdown",
   "metadata": {},
   "source": [
    "MAE"
   ]
  },
  {
   "cell_type": "code",
   "execution_count": 180,
   "metadata": {},
   "outputs": [
    {
     "data": {
      "text/plain": [
       "0.10574542794588283"
      ]
     },
     "execution_count": 180,
     "metadata": {},
     "output_type": "execute_result"
    }
   ],
   "source": [
    "mae_extra = mean_absolute_error(y_val, y_extra)\n",
    "mae_extra"
   ]
  },
  {
   "cell_type": "markdown",
   "metadata": {},
   "source": [
    "MSE"
   ]
  },
  {
   "cell_type": "code",
   "execution_count": 181,
   "metadata": {},
   "outputs": [
    {
     "data": {
      "text/plain": [
       "0.08427841226557388"
      ]
     },
     "execution_count": 181,
     "metadata": {},
     "output_type": "execute_result"
    }
   ],
   "source": [
    "mse_extra = mean_squared_error(y_val,y_extra)\n",
    "mse_extra"
   ]
  },
  {
   "cell_type": "markdown",
   "metadata": {},
   "source": [
    "RMSE"
   ]
  },
  {
   "cell_type": "code",
   "execution_count": 182,
   "metadata": {},
   "outputs": [
    {
     "data": {
      "text/plain": [
       "0.2903074443853858"
      ]
     },
     "execution_count": 182,
     "metadata": {},
     "output_type": "execute_result"
    }
   ],
   "source": [
    "rmse_extra =  math.sqrt(mse_extra)\n",
    "rmse_extra"
   ]
  },
  {
   "cell_type": "markdown",
   "metadata": {},
   "source": [
    "### Vergleich"
   ]
  },
  {
   "cell_type": "code",
   "execution_count": 185,
   "metadata": {},
   "outputs": [],
   "source": [
    "eval_df = pd.DataFrame([[mape_dummy,mae_dummy,mse_dummy,rmse_dummy],\n",
    "                        [mape_linreg,mae_linreg,mse_linreg,rmse_linreg],\n",
    "                        [mape_gbr,mae_gbr,mse_gbr,rmse_gbr],\n",
    "                        [mape_extra,mae_extra,mse_extra,rmse_extra], \n",
    "                        ],\n",
    "                        columns=['MAPE','MAE','MSE','RMSE'],\n",
    "                        index=['Dummy (Mittelwert)','Lineare Regression','Gradient Boosting Regressor','Extra Trees Regressor',\n",
    "                              ],\n",
    "                  )"
   ]
  },
  {
   "cell_type": "code",
   "execution_count": 187,
   "metadata": {},
   "outputs": [
    {
     "data": {
      "text/html": [
       "<div>\n",
       "<style scoped>\n",
       "    .dataframe tbody tr th:only-of-type {\n",
       "        vertical-align: middle;\n",
       "    }\n",
       "\n",
       "    .dataframe tbody tr th {\n",
       "        vertical-align: top;\n",
       "    }\n",
       "\n",
       "    .dataframe thead th {\n",
       "        text-align: right;\n",
       "    }\n",
       "</style>\n",
       "<table border=\"1\" class=\"dataframe\">\n",
       "  <thead>\n",
       "    <tr style=\"text-align: right;\">\n",
       "      <th></th>\n",
       "      <th>MAPE</th>\n",
       "      <th>MAE</th>\n",
       "      <th>MSE</th>\n",
       "      <th>RMSE</th>\n",
       "    </tr>\n",
       "  </thead>\n",
       "  <tbody>\n",
       "    <tr>\n",
       "      <th>Dummy (Mittelwert)</th>\n",
       "      <td>414.218</td>\n",
       "      <td>2.860</td>\n",
       "      <td>16.142</td>\n",
       "      <td>4.018</td>\n",
       "    </tr>\n",
       "    <tr>\n",
       "      <th>Lineare Regression</th>\n",
       "      <td>52.147</td>\n",
       "      <td>0.812</td>\n",
       "      <td>1.127</td>\n",
       "      <td>1.061</td>\n",
       "    </tr>\n",
       "    <tr>\n",
       "      <th>Gradient Boosting Regressor</th>\n",
       "      <td>26.967</td>\n",
       "      <td>0.661</td>\n",
       "      <td>0.769</td>\n",
       "      <td>0.877</td>\n",
       "    </tr>\n",
       "    <tr>\n",
       "      <th>Extra Trees Regressor</th>\n",
       "      <td>3.589</td>\n",
       "      <td>0.106</td>\n",
       "      <td>0.084</td>\n",
       "      <td>0.290</td>\n",
       "    </tr>\n",
       "  </tbody>\n",
       "</table>\n",
       "</div>"
      ],
      "text/plain": [
       "                               MAPE   MAE    MSE  RMSE\n",
       "Dummy (Mittelwert)          414.218 2.860 16.142 4.018\n",
       "Lineare Regression           52.147 0.812  1.127 1.061\n",
       "Gradient Boosting Regressor  26.967 0.661  0.769 0.877\n",
       "Extra Trees Regressor         3.589 0.106  0.084 0.290"
      ]
     },
     "execution_count": 187,
     "metadata": {},
     "output_type": "execute_result"
    }
   ],
   "source": [
    "eval_df"
   ]
  },
  {
   "cell_type": "markdown",
   "metadata": {},
   "source": [
    "## Weitere Auswertungen und Visualisierungen"
   ]
  },
  {
   "attachments": {},
   "cell_type": "markdown",
   "metadata": {},
   "source": [
    "Folgende Darstellung wurde analog zu folgendem Beispiel erstellt: [Scikit learn: Plot GBR](https://scikit-learn.org/stable/auto_examples/ensemble/plot_gradient_boosting_regression.html#sphx-glr-auto-examples-ensemble-plot-gradient-boosting-regression-py)"
   ]
  },
  {
   "cell_type": "code",
   "execution_count": 73,
   "metadata": {},
   "outputs": [
    {
     "data": {
      "image/png": "[encoded data removed]",
      "text/plain": [
       "<Figure size 576x432 with 1 Axes>"
      ]
     },
     "metadata": {
      "needs_background": "light"
     },
     "output_type": "display_data"
    }
   ],
   "source": [
    "test_score = np.zeros((100,), dtype=np.float64)\n",
    "\n",
    "for i, y_pred in enumerate(gbr.staged_predict(X_val)):\n",
    "    test_score[i] = gbr.loss_(y_val, y_pred)\n",
    "\n",
    "fig = plt.figure(figsize=(8, 6))\n",
    "plt.subplot(1, 1, 1)\n",
    "plt.title('Deviance')\n",
    "plt.plot(np.arange(100) + 1, gbr.train_score_, 'b-',\n",
    "         label='Training Set Deviance')\n",
    "plt.plot(np.arange(100) + 1, test_score, 'r-',\n",
    "         label='Test Set Deviance')\n",
    "plt.legend(loc='upper right')\n",
    "plt.xlabel('Boosting Iterations')\n",
    "plt.ylabel('Deviance')\n",
    "fig.tight_layout()\n",
    "plt.show()"
   ]
  },
  {
   "cell_type": "markdown",
   "metadata": {},
   "source": [
    "**\"Feature Importance\"**\n",
    "\n",
    "Careful, impurity-based feature importances can be misleading for high cardinality features (many unique values). As an alternative, the permutation importances of the model can be computed on a held out test set. See Permutation feature importance for more details.\n",
    "\n",
    "[Scikit learn: Plot GBR](https://scikit-learn.org/stable/auto_examples/ensemble/plot_gradient_boosting_regression.html#sphx-glr-auto-examples-ensemble-plot-gradient-boosting-regression-py)"
   ]
  },
  {
   "cell_type": "code",
   "execution_count": 80,
   "metadata": {},
   "outputs": [],
   "source": [
    "from sklearn.inspection import permutation_importance"
   ]
  },
  {
   "cell_type": "code",
   "execution_count": 81,
   "metadata": {},
   "outputs": [
    {
     "data": {
      "image/png": "[encoded data removed]",
      "text/plain": [
       "<Figure size 864x432 with 2 Axes>"
      ]
     },
     "metadata": {
      "needs_background": "light"
     },
     "output_type": "display_data"
    }
   ],
   "source": [
    "feature_importance = gbr.feature_importances_\n",
    "sorted_idx = np.argsort(feature_importance)\n",
    "pos = np.arange(sorted_idx.shape[0]) + .5\n",
    "fig = plt.figure(figsize=(12, 6))\n",
    "plt.subplot(1, 2, 1)\n",
    "plt.barh(pos, feature_importance[sorted_idx], align='center')\n",
    "plt.yticks(pos, np.array(X_val.columns)[sorted_idx])\n",
    "plt.title('Feature Importance')\n",
    "\n",
    "\n",
    "result = permutation_importance(gbr, X_val, y_val, n_repeats=10,\n",
    "                                random_state=42, n_jobs=2)\n",
    "sorted_idx = result.importances_mean.argsort()\n",
    "plt.subplot(1, 2, 2)\n",
    "plt.boxplot(result.importances[sorted_idx].T,\n",
    "            vert=False, labels=np.array(X_val.columns)[sorted_idx])\n",
    "plt.title(\"Permutation Importance (test set)\")\n",
    "\n",
    "\n",
    "fig.tight_layout()\n",
    "plt.show()"
   ]
  },
  {
   "cell_type": "code",
   "execution_count": 63,
   "metadata": {},
   "outputs": [
    {
     "data": {
      "image/png": "[encoded data removed]",
      "text/plain": [
       "<Figure size 432x288 with 1 Axes>"
      ]
     },
     "metadata": {
      "needs_background": "light"
     },
     "output_type": "display_data"
    }
   ],
   "source": [
    "plt.scatter(y_gbr[:1000],y_val[:1000],color='steelblue',alpha=0.4)\n",
    "plt.plot()\n",
    "\n",
    "axes = plt.gca()\n",
    "axes.set_xlim([0,20])\n",
    "axes.set_ylim([0,20])\n",
    "axes.set_ylabel('Längengrad Validierung')\n",
    "axes.set_xlabel('Längengrad Prediction')\n",
    "axes.set_title(\"Gradient Boosting Regressor\")\n",
    "\n",
    "x = np.arange(0, 25)\n",
    "y = np.arange(0, 25)\n",
    "plt.plot(x,y, color='black')\n",
    "x2 = np.arange(0, 20)\n",
    "y2 = np.arange(1, 21)\n",
    "plt.plot(x2,y2, color='grey')\n",
    "x3 = np.arange(0, 22)\n",
    "y3 = np.arange(-1, 21)\n",
    "plt.plot(x3,y3, color='grey')\n",
    "plt.show()"
   ]
  },
  {
   "cell_type": "code",
   "execution_count": 64,
   "metadata": {},
   "outputs": [
    {
     "data": {
      "image/png": "[encoded data removed]",
      "text/plain": [
       "<Figure size 432x288 with 1 Axes>"
      ]
     },
     "metadata": {
      "needs_background": "light"
     },
     "output_type": "display_data"
    }
   ],
   "source": [
    "plt.scatter(y_dummy[:1000],y_val[:1000],color='steelblue',alpha=0.4)\n",
    "plt.plot()\n",
    "axes = plt.gca()\n",
    "axes.set_xlim([0,20])\n",
    "axes.set_ylim([0,20])\n",
    "axes.set_ylabel('Längengrad Validierung')\n",
    "axes.set_xlabel('Längengrad Prediction')\n",
    "axes.set_title(\"Dummy (Mittelwert)\")\n",
    "\n",
    "\n",
    "x = np.arange(0, 25)\n",
    "y = np.arange(0, 25)\n",
    "plt.plot(x,y, color='black')\n",
    "x2 = np.arange(0, 20)\n",
    "y2 = np.arange(1, 21)\n",
    "plt.plot(x2,y2, color='grey')\n",
    "x3 = np.arange(0, 22)\n",
    "y3 = np.arange(-1, 21)\n",
    "plt.plot(x3,y3, color='grey')\n",
    "plt.show()"
   ]
  },
  {
   "cell_type": "code",
   "execution_count": 65,
   "metadata": {},
   "outputs": [
    {
     "data": {
      "image/png": "[encoded data removed]",
      "text/plain": [
       "<Figure size 432x288 with 1 Axes>"
      ]
     },
     "metadata": {
      "needs_background": "light"
     },
     "output_type": "display_data"
    }
   ],
   "source": [
    "plt.scatter(y_linreg[:1000],y_val[:1000],color='steelblue',alpha=0.4)\n",
    "plt.plot()\n",
    "axes = plt.gca()\n",
    "axes.set_xlim([0,20])\n",
    "axes.set_ylim([0,20])\n",
    "axes.set_ylabel('Längengrad Validierung')\n",
    "axes.set_xlabel('Längengrad Prediction')\n",
    "axes.set_title(\"Lineare Regression\")\n",
    "\n",
    "\n",
    "x = np.arange(0, 25)\n",
    "y = np.arange(0, 25)\n",
    "plt.plot(x,y, color='black')\n",
    "x2 = np.arange(0, 20)\n",
    "y2 = np.arange(1, 21)\n",
    "plt.plot(x2,y2, color='grey')\n",
    "x3 = np.arange(0, 22)\n",
    "y3 = np.arange(-1, 21)\n",
    "plt.plot(x3,y3, color='grey')\n",
    "plt.show()"
   ]
  },
  {
   "cell_type": "code",
   "execution_count": 195,
   "metadata": {},
   "outputs": [
    {
     "data": {
      "image/png": "[encoded data removed]",
      "text/plain": [
       "<Figure size 3240x720 with 4 Axes>"
      ]
     },
     "metadata": {
      "needs_background": "light"
     },
     "output_type": "display_data"
    }
   ],
   "source": [
    "f = plt.figure(figsize=(45,10))\n",
    "\n",
    "ax1 = plt.subplot(142)\n",
    "ax1.scatter(y_gbr,y_val,color='steelblue', alpha=0.3)\n",
    "ax1.set_title('Gradient Boosting Regressor')\n",
    "ax1.title.set_size(20)\n",
    "ax1.set_xlim([-14,26])\n",
    "ax1.set_ylim([-14,26])\n",
    "x = np.arange(-14, 26)\n",
    "y = np.arange(-14, 26)\n",
    "plt.plot(x,y, color='black')\n",
    "x2 = np.arange(-14, 26)\n",
    "y2 = np.arange(-13, 27)\n",
    "plt.plot(x2,y2, color='orange',linestyle='dashed')\n",
    "x3 = np.arange(-14, 26)\n",
    "y3 = np.arange(-15, 25)\n",
    "plt.plot(x3,y3, color='orange',linestyle='dashed')\n",
    "\n",
    "\n",
    "ax2 = plt.subplot(143)\n",
    "ax2.scatter(y_linreg,y_val,color='steelblue', alpha=0.3)\n",
    "ax2.set_title('Lineare Regression')\n",
    "ax2.title.set_size(20)\n",
    "ax2.set_xlim([-14,26])\n",
    "ax2.set_ylim([-14,26])\n",
    "x = np.arange(-14, 26)\n",
    "y = np.arange(-14, 26)\n",
    "plt.plot(x,y, color='black')\n",
    "x2 = np.arange(-14, 26)\n",
    "y2 = np.arange(-13, 27)\n",
    "plt.plot(x2,y2, color='orange',linestyle='dashed')\n",
    "x3 = np.arange(-14, 26)\n",
    "y3 = np.arange(-15, 25)\n",
    "plt.plot(x3,y3, color='orange',linestyle='dashed')\n",
    "\n",
    "ax3 = plt.subplot(144)\n",
    "ax3.scatter(y_dummy,y_val,color='steelblue',alpha=0.3)\n",
    "ax3.set_title('Dummy (Mean)')\n",
    "ax3.title.set_size(20)\n",
    "axes = plt.gca()\n",
    "ax3.set_xlim([-14,26])\n",
    "ax3.set_ylim([-14,26])\n",
    "x = np.arange(-14, 26)\n",
    "y = np.arange(-14, 26)\n",
    "plt.plot(x,y, color='black')\n",
    "x2 = np.arange(-14, 26)\n",
    "y2 = np.arange(-13, 27)\n",
    "plt.plot(x2,y2, color='orange',linestyle='dashed')\n",
    "x3 = np.arange(-14, 26)\n",
    "y3 = np.arange(-15, 25)\n",
    "plt.plot(x3,y3, color='orange',linestyle='dashed')\n",
    "\n",
    "ax4 = plt.subplot(141)\n",
    "ax4.scatter(y_extra,y_val,color='steelblue',alpha=0.3)\n",
    "ax4.set_title('Extra Trees Regressor')\n",
    "ax4.title.set_size(20)\n",
    "axes = plt.gca()\n",
    "ax4.set_xlim([-14,26])\n",
    "ax4.set_ylim([-14,26])\n",
    "x = np.arange(-14, 26)\n",
    "y = np.arange(-14, 26)\n",
    "plt.plot(x,y, color='black')\n",
    "x2 = np.arange(-14, 26)\n",
    "y2 = np.arange(-13, 27)\n",
    "plt.plot(x2,y2, color='orange',linestyle='dashed')\n",
    "x3 = np.arange(-14, 26)\n",
    "y3 = np.arange(-15, 25)\n",
    "plt.plot(x3,y3, color='orange',linestyle='dashed')\n",
    "\n",
    "f.savefig(\"results.png\")"
   ]
  },
  {
   "cell_type": "markdown",
   "metadata": {},
   "source": [
    "## Predictions speichern"
   ]
  },
  {
   "cell_type": "code",
   "execution_count": 42,
   "metadata": {},
   "outputs": [],
   "source": [
    "np.savetxt(\"pred_y.csv\",y_val, delimiter=',')"
   ]
  },
  {
   "cell_type": "code",
   "execution_count": 158,
   "metadata": {},
   "outputs": [],
   "source": [
    "np.savetxt(\"pred_dummy.csv\", y_dummy, delimiter=',')"
   ]
  },
  {
   "cell_type": "code",
   "execution_count": 159,
   "metadata": {},
   "outputs": [],
   "source": [
    "np.savetxt(\"pred_linreg.csv\", y_linreg, delimiter=',')"
   ]
  },
  {
   "cell_type": "code",
   "execution_count": 160,
   "metadata": {},
   "outputs": [],
   "source": [
    "np.savetxt(\"pred_gbr.csv\", y_gbr, delimiter=',')"
   ]
  },
  {
   "cell_type": "code",
   "execution_count": 43,
   "metadata": {},
   "outputs": [],
   "source": [
    "np.savetxt(\"pred_extra.csv\",y_extra, delimiter=',')"
   ]
  },
  {
   "cell_type": "markdown",
   "metadata": {},
   "source": [
    "## Weitere Ansätze: \n",
    "\n",
    "### Kombination: Lineare Regression und Gradient Boosting Regressor\n",
    "\n",
    "[Link](https://scikit-learn.org/stable/auto_examples/ensemble/plot_voting_regressor.html#sphx-glr-auto-examples-ensemble-plot-voting-regressor-py)"
   ]
  },
  {
   "cell_type": "code",
   "execution_count": 82,
   "metadata": {},
   "outputs": [],
   "source": [
    "from sklearn.ensemble import VotingRegressor"
   ]
  },
  {
   "cell_type": "code",
   "execution_count": 83,
   "metadata": {},
   "outputs": [
    {
     "data": {
      "text/plain": [
       "VotingRegressor(estimators=[('gb', GradientBoostingRegressor(random_state=0)),\n",
       "                            ('lr', LinearRegression())])"
      ]
     },
     "execution_count": 83,
     "metadata": {},
     "output_type": "execute_result"
    }
   ],
   "source": [
    "ereg = VotingRegressor([('gb', gbr), ('lr', reg)])\n",
    "ereg.fit(X_train, y_train)"
   ]
  },
  {
   "cell_type": "code",
   "execution_count": 84,
   "metadata": {},
   "outputs": [],
   "source": [
    "y_vote = ereg.predict(X_val)"
   ]
  },
  {
   "cell_type": "code",
   "execution_count": 86,
   "metadata": {},
   "outputs": [
    {
     "data": {
      "text/plain": [
       "0.710488576855351"
      ]
     },
     "execution_count": 86,
     "metadata": {},
     "output_type": "execute_result"
    }
   ],
   "source": [
    "mae_vote = mean_absolute_error(y_val, y_vote)\n",
    "mae_vote"
   ]
  },
  {
   "cell_type": "code",
   "execution_count": 87,
   "metadata": {},
   "outputs": [
    {
     "data": {
      "text/plain": [
       "0.8814653341314352"
      ]
     },
     "execution_count": 87,
     "metadata": {},
     "output_type": "execute_result"
    }
   ],
   "source": [
    "mse_vote = mean_squared_error(y_val,y_vote)\n",
    "mse_vote"
   ]
  },
  {
   "cell_type": "code",
   "execution_count": 90,
   "metadata": {},
   "outputs": [
    {
     "data": {
      "text/plain": [
       "0.9388638528196914"
      ]
     },
     "execution_count": 90,
     "metadata": {},
     "output_type": "execute_result"
    }
   ],
   "source": [
    "rmse_vote =  math. sqrt(mse_vote)\n",
    "rmse_vote"
   ]
  },
  {
   "cell_type": "code",
   "execution_count": 105,
   "metadata": {},
   "outputs": [],
   "source": [
    "mape_vote = '-'"
   ]
  },
  {
   "cell_type": "markdown",
   "metadata": {},
   "source": [
    "### Random Forest Regressor\n",
    "\n",
    "__init__(self, n_estimators=100, *, criterion='mse', max_depth=None, min_samples_split=2, min_samples_leaf=1, min_weight_fraction_leaf=0.0, max_features='auto', max_leaf_nodes=None, min_impurity_decrease=0.0, min_impurity_split=None, bootstrap=True, oob_score=False, n_jobs=None, random_state=None, verbose=0, warm_start=False, ccp_alpha=0.0, max_samples=None)"
   ]
  },
  {
   "cell_type": "code",
   "execution_count": 109,
   "metadata": {},
   "outputs": [],
   "source": [
    "from sklearn.ensemble import RandomForestRegressor"
   ]
  },
  {
   "cell_type": "code",
   "execution_count": 111,
   "metadata": {},
   "outputs": [],
   "source": [
    "rforest = RandomForestRegressor(random_state=1)"
   ]
  },
  {
   "cell_type": "code",
   "execution_count": 112,
   "metadata": {},
   "outputs": [
    {
     "data": {
      "text/plain": [
       "RandomForestRegressor(random_state=1)"
      ]
     },
     "execution_count": 112,
     "metadata": {},
     "output_type": "execute_result"
    }
   ],
   "source": [
    "rforest.fit(X_train, y_train)"
   ]
  },
  {
   "cell_type": "code",
   "execution_count": 113,
   "metadata": {},
   "outputs": [],
   "source": [
    "y_forest = rforest.predict(X_val)"
   ]
  },
  {
   "cell_type": "code",
   "execution_count": 114,
   "metadata": {},
   "outputs": [
    {
     "data": {
      "text/plain": [
       "0.09995415134001195"
      ]
     },
     "execution_count": 114,
     "metadata": {},
     "output_type": "execute_result"
    }
   ],
   "source": [
    "mae_forest = mean_absolute_error(y_val, y_forest)\n",
    "mae_forest"
   ]
  },
  {
   "cell_type": "code",
   "execution_count": 115,
   "metadata": {},
   "outputs": [
    {
     "data": {
      "text/plain": [
       "0.07899419500085804"
      ]
     },
     "execution_count": 115,
     "metadata": {},
     "output_type": "execute_result"
    }
   ],
   "source": [
    "mse_forest = mean_squared_error(y_val,y_forest)\n",
    "mse_forest"
   ]
  },
  {
   "cell_type": "code",
   "execution_count": 117,
   "metadata": {},
   "outputs": [
    {
     "data": {
      "text/plain": [
       "0.28105905963134875"
      ]
     },
     "execution_count": 117,
     "metadata": {},
     "output_type": "execute_result"
    }
   ],
   "source": [
    "rmse_forest =  math.sqrt(mse_forest)\n",
    "rmse_forest"
   ]
  },
  {
   "cell_type": "code",
   "execution_count": 119,
   "metadata": {},
   "outputs": [],
   "source": [
    "mape_forest ='-'"
   ]
  },
  {
   "cell_type": "markdown",
   "metadata": {},
   "source": [
    "### Reduzierung der Features anhand der Korrelationswerte bzw. Feature Importance"
   ]
  },
  {
   "cell_type": "code",
   "execution_count": 148,
   "metadata": {},
   "outputs": [],
   "source": [
    "X_red = traindata[['longitude_1','longitude_2']]"
   ]
  },
  {
   "cell_type": "code",
   "execution_count": 150,
   "metadata": {},
   "outputs": [],
   "source": [
    "y_red = traindata['longitude']"
   ]
  },
  {
   "cell_type": "code",
   "execution_count": 151,
   "metadata": {},
   "outputs": [],
   "source": [
    "X_train_r, X_val_r, y_train_r, y_val_r = train_test_split(X_red, y_red, test_size=0.20,random_state=42)"
   ]
  },
  {
   "cell_type": "code",
   "execution_count": 153,
   "metadata": {},
   "outputs": [
    {
     "data": {
      "text/html": [
       "<div>\n",
       "<style scoped>\n",
       "    .dataframe tbody tr th:only-of-type {\n",
       "        vertical-align: middle;\n",
       "    }\n",
       "\n",
       "    .dataframe tbody tr th {\n",
       "        vertical-align: top;\n",
       "    }\n",
       "\n",
       "    .dataframe thead th {\n",
       "        text-align: right;\n",
       "    }\n",
       "</style>\n",
       "<table border=\"1\" class=\"dataframe\">\n",
       "  <thead>\n",
       "    <tr style=\"text-align: right;\">\n",
       "      <th></th>\n",
       "      <th>longitude_1</th>\n",
       "      <th>longitude_2</th>\n",
       "    </tr>\n",
       "  </thead>\n",
       "  <tbody>\n",
       "    <tr>\n",
       "      <th>1861396</th>\n",
       "      <td>8.488</td>\n",
       "      <td>8.358</td>\n",
       "    </tr>\n",
       "    <tr>\n",
       "      <th>300782</th>\n",
       "      <td>7.601</td>\n",
       "      <td>7.600</td>\n",
       "    </tr>\n",
       "    <tr>\n",
       "      <th>1127023</th>\n",
       "      <td>5.893</td>\n",
       "      <td>6.685</td>\n",
       "    </tr>\n",
       "    <tr>\n",
       "      <th>485365</th>\n",
       "      <td>1.471</td>\n",
       "      <td>8.789</td>\n",
       "    </tr>\n",
       "    <tr>\n",
       "      <th>1841464</th>\n",
       "      <td>-0.769</td>\n",
       "      <td>-1.205</td>\n",
       "    </tr>\n",
       "  </tbody>\n",
       "</table>\n",
       "</div>"
      ],
      "text/plain": [
       "         longitude_1  longitude_2\n",
       "1861396        8.488        8.358\n",
       "300782         7.601        7.600\n",
       "1127023        5.893        6.685\n",
       "485365         1.471        8.789\n",
       "1841464       -0.769       -1.205"
      ]
     },
     "execution_count": 153,
     "metadata": {},
     "output_type": "execute_result"
    }
   ],
   "source": [
    "X_train_r.head()"
   ]
  },
  {
   "cell_type": "code",
   "execution_count": 155,
   "metadata": {},
   "outputs": [],
   "source": [
    "gbr2 = GradientBoostingRegressor(random_state=0)"
   ]
  },
  {
   "cell_type": "code",
   "execution_count": 156,
   "metadata": {},
   "outputs": [
    {
     "data": {
      "text/plain": [
       "GradientBoostingRegressor(random_state=0)"
      ]
     },
     "execution_count": 156,
     "metadata": {},
     "output_type": "execute_result"
    }
   ],
   "source": [
    "gbr2.fit(X_train_r, y_train_r)"
   ]
  },
  {
   "cell_type": "code",
   "execution_count": 157,
   "metadata": {},
   "outputs": [],
   "source": [
    "y_gbr2 = gbr2.predict(X_val_r)"
   ]
  },
  {
   "cell_type": "code",
   "execution_count": 159,
   "metadata": {},
   "outputs": [
    {
     "data": {
      "text/plain": [
       "0.6733198592969795"
      ]
     },
     "execution_count": 159,
     "metadata": {},
     "output_type": "execute_result"
    }
   ],
   "source": [
    "mae_gbr2 = mean_absolute_error(y_val_r, y_gbr2)\n",
    "mae_gbr2"
   ]
  },
  {
   "cell_type": "code",
   "execution_count": 160,
   "metadata": {},
   "outputs": [
    {
     "data": {
      "text/plain": [
       "0.8007911869296553"
      ]
     },
     "execution_count": 160,
     "metadata": {},
     "output_type": "execute_result"
    }
   ],
   "source": [
    "mse_gbr2 = mean_squared_error(y_val_r,y_gbr2)\n",
    "mse_gbr2"
   ]
  },
  {
   "cell_type": "code",
   "execution_count": 161,
   "metadata": {},
   "outputs": [
    {
     "data": {
      "text/plain": [
       "0.8948693686397223"
      ]
     },
     "execution_count": 161,
     "metadata": {},
     "output_type": "execute_result"
    }
   ],
   "source": [
    "rmse_gbr2 =  math.sqrt(mse_gbr2)\n",
    "rmse_gbr2"
   ]
  },
  {
   "cell_type": "markdown",
   "metadata": {},
   "source": [
    "### Versuch mit 500 Bäumen und Extra Trees (DNF)"
   ]
  },
  {
   "cell_type": "code",
   "execution_count": 196,
   "metadata": {},
   "outputs": [],
   "source": [
    "extra2 = ExtraTreesRegressor(n_estimators=500, random_state=0, n_jobs=-1,verbose=1)"
   ]
  },
  {
   "cell_type": "code",
   "execution_count": null,
   "metadata": {},
   "outputs": [],
   "source": [
    "extra2.fit(X_train,y_train)"
   ]
  },
  {
   "cell_type": "code",
   "execution_count": null,
   "metadata": {},
   "outputs": [],
   "source": [
    "y_extra2 = extra2.predict(X_val)"
   ]
  },
  {
   "cell_type": "code",
   "execution_count": null,
   "metadata": {},
   "outputs": [],
   "source": [
    "mae_extra2 = mean_absolute_error(y_val, y_extra2)\n",
    "mae_extra2"
   ]
  },
  {
   "cell_type": "code",
   "execution_count": null,
   "metadata": {},
   "outputs": [],
   "source": [
    "mse_extra2 = mean_squared_error(y_val,y_extra2)\n",
    "mse_extra2"
   ]
  },
  {
   "cell_type": "code",
   "execution_count": null,
   "metadata": {},
   "outputs": [],
   "source": [
    "rmse_extra2 =  math.sqrt(mse_extra2)\n",
    "rmse_extra2"
   ]
  },
  {
   "cell_type": "markdown",
   "metadata": {},
   "source": [
    "### Extra: MLP Regressor (erster Versuch)"
   ]
  },
  {
   "cell_type": "code",
   "execution_count": 41,
   "metadata": {},
   "outputs": [],
   "source": [
    "from sklearn.neural_network import MLPRegressor"
   ]
  },
  {
   "cell_type": "code",
   "execution_count": 178,
   "metadata": {},
   "outputs": [
    {
     "name": "stdout",
     "output_type": "stream",
     "text": [
      "This took 183.4142 seconds\n"
     ]
    },
    {
     "name": "stderr",
     "output_type": "stream",
     "text": [
      "/opt/anaconda3/envs/MLED-Prak/lib/python3.8/site-packages/sklearn/neural_network/_multilayer_perceptron.py:582: ConvergenceWarning: Stochastic Optimizer: Maximum iterations (10) reached and the optimization hasn't converged yet.\n",
      "  warnings.warn(\n"
     ]
    }
   ],
   "source": [
    "start = time.perf_counter()\n",
    "\n",
    "regr = MLPRegressor(random_state=1, max_iter=25).fit(X_train, y_train)\n",
    "\n",
    "end = time.perf_counter()\n",
    "print(f\"This took {end - start:0.4f} seconds\")"
   ]
  },
  {
   "cell_type": "code",
   "execution_count": 195,
   "metadata": {},
   "outputs": [],
   "source": [
    "y_nn = regr.predict(X_val)"
   ]
  },
  {
   "cell_type": "markdown",
   "metadata": {},
   "source": [
    "**Auswertung MLP Regressor**"
   ]
  },
  {
   "cell_type": "code",
   "execution_count": null,
   "metadata": {},
   "outputs": [],
   "source": [
    "y_nn_mape = np.delete(y_nn, 2356)"
   ]
  },
  {
   "cell_type": "code",
   "execution_count": null,
   "metadata": {},
   "outputs": [],
   "source": [
    "mean_absolute_percentage_error(y_val_no_zero['longitude'], y_nn_mape)"
   ]
  },
  {
   "cell_type": "code",
   "execution_count": 198,
   "metadata": {},
   "outputs": [
    {
     "data": {
      "text/plain": [
       "2911605.7724016244"
      ]
     },
     "execution_count": 198,
     "metadata": {},
     "output_type": "execute_result"
    }
   ],
   "source": [
    "mean_absolute_error(y_val, y_nn)"
   ]
  },
  {
   "cell_type": "code",
   "execution_count": 202,
   "metadata": {},
   "outputs": [
    {
     "data": {
      "text/plain": [
       "11301651817833.406"
      ]
     },
     "execution_count": 202,
     "metadata": {},
     "output_type": "execute_result"
    }
   ],
   "source": [
    "mean_squared_error(y_val,y_nn)"
   ]
  },
  {
   "cell_type": "markdown",
   "metadata": {},
   "source": [
    "**Erkenntnis:** Für sinnvolle Ergebnisse beim neuronalen Netz Ansatz scheint eine Skalierung von Werten, sowie mehr Epochen erforderlich. Sehr zeitaufwändiger und komplexer Ansatz."
   ]
  }
 ],
 "metadata": {
  "kernelspec": {
   "display_name": "Python 3",
   "language": "python",
   "name": "python3"
  },
  "language_info": {
   "codemirror_mode": {
    "name": "ipython",
    "version": 3
   },
   "file_extension": ".py",
   "mimetype": "text/x-python",
   "name": "python",
   "nbconvert_exporter": "python",
   "pygments_lexer": "ipython3",
   "version": "3.8.3"
  },
  "toc": {
   "base_numbering": 1,
   "nav_menu": {},
   "number_sections": true,
   "sideBar": true,
   "skip_h1_title": true,
   "title_cell": "Inhaltsverzeichnis",
   "title_sidebar": "Contents",
   "toc_cell": true,
   "toc_position": {},
   "toc_section_display": true,
   "toc_window_display": false
  }
 },
 "nbformat": 4,
 "nbformat_minor": 4
}
